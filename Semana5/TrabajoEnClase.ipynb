{
 "cells": [
  {
   "cell_type": "code",
   "execution_count": 110,
   "metadata": {},
   "outputs": [],
   "source": [
    "import os\n",
    "import numpy as np\n",
    "import pandas as pd\n",
    "import matplotlib.pyplot as plt"
   ]
  },
  {
   "cell_type": "code",
   "execution_count": 111,
   "metadata": {},
   "outputs": [],
   "source": [
    "lluvias_2018 = pd.read_csv('lluvias_2018.csv', encoding = 'latin-1')\n",
    "lluvias_2019 = pd.read_csv('lluvias_2019.csv', encoding = 'latin-1')"
   ]
  },
  {
   "cell_type": "code",
   "execution_count": 112,
   "metadata": {},
   "outputs": [
    {
     "data": {
      "text/plain": [
       "Index(['LON', 'LAT', 'ESTADO', 'CLAVE_SIH', 'NOMBRE', 'ENE'], dtype='object')"
      ]
     },
     "execution_count": 112,
     "metadata": {},
     "output_type": "execute_result"
    }
   ],
   "source": [
    "lluvias_2018.keys()"
   ]
  },
  {
   "cell_type": "code",
   "execution_count": 113,
   "metadata": {},
   "outputs": [
    {
     "data": {
      "text/plain": [
       "Index(['LON', 'LAT', 'EDO', 'CLAVE_SIH', 'NOMBRE', 'ENE'], dtype='object')"
      ]
     },
     "execution_count": 113,
     "metadata": {},
     "output_type": "execute_result"
    }
   ],
   "source": [
    "lluvias_2019.keys()"
   ]
  },
  {
   "cell_type": "code",
   "execution_count": 114,
   "metadata": {},
   "outputs": [
    {
     "data": {
      "text/plain": [
       "Index(['LON', 'LAT', 'EDO', 'CLAVE_SIH', 'NOMBRE', 'ENE'], dtype='object')"
      ]
     },
     "execution_count": 114,
     "metadata": {},
     "output_type": "execute_result"
    }
   ],
   "source": [
    "lluvias_2018 = lluvias_2018.rename(columns={'ESTADO':'EDO'})\n",
    "lluvias_2018.keys()"
   ]
  },
  {
   "cell_type": "code",
   "execution_count": 115,
   "metadata": {},
   "outputs": [
    {
     "name": "stdout",
     "output_type": "stream",
     "text": [
      "['AGS' 'BC' 'BCS' 'CAMP' 'CHIH' 'CHIS' 'COAH' 'COL' 'DF' 'DGO' 'GRO' 'GTO'\n",
      " 'HGO' 'JAL' 'MEX' 'MICH' 'MOR' 'NAY' 'NL' 'OAX' 'PUE' 'QRO' 'QROO' 'SIN'\n",
      " 'SLP' 'SON' 'TAB' 'TAMS' 'TLAX' 'VER' 'YUC' 'ZAC'] ['AGS' 'BC' 'BCS' 'CAMP' 'CHIH' 'CHIS' 'COAH' 'COL' 'DF' 'DGO' 'GRO' 'GTO'\n",
      " 'HGO' 'JAL' 'MEX' 'MICH' 'MOR' 'NAY' 'NL' 'OAX' 'PUE' 'QRO' 'QROO' 'SIN'\n",
      " 'SLP' 'SON' 'TAB' 'TAMS' 'TLAX' 'VER' 'YUC' 'ZAC']\n",
      "[ True  True  True  True  True  True  True  True  True  True  True  True\n",
      "  True  True  True  True  True  True  True  True  True  True  True  True\n",
      "  True  True  True  True  True  True  True  True]\n",
      "[ True  True  True  True  True  True  True  True  True  True  True  True\n",
      "  True  True  True  True  True  True  True  True  True  True  True  True\n",
      "  True  True  True  True  True  True  True  True]\n",
      "[ True  True  True  True  True  True  True  True  True  True  True  True\n",
      "  True  True  True  True  True  True  True  True  True  True  True  True\n",
      "  True  True  True  True  True  True  True  True]\n"
     ]
    }
   ],
   "source": [
    "edos_2019 = np.unique(lluvias_2019['EDO'])\n",
    "edos_2018 = np.unique(lluvias_2018['EDO'])\n",
    "print(edos_2019,edos_2018)\n",
    "print(edos_2019 == edos_2018)\n",
    "print(np.in1d(edos_2019, edos_2018))\n",
    "print(np.in1d(edos_2018, edos_2019))"
   ]
  },
  {
   "cell_type": "code",
   "execution_count": 119,
   "metadata": {},
   "outputs": [
    {
     "name": "stdout",
     "output_type": "stream",
     "text": [
      "EDO mean(ENE) 2019 mean(ENE) 2018\n",
      "AGS 11.832173913043478 27.820408163265306\n",
      "BC 25.490000000000006 12.509375000000002\n",
      "BCS 11.754999999999999 0.9593749999999999\n",
      "CAMP 22.060526315789474 73.98333333333332\n",
      "CHIH 18.67772727272727 0.2528301886792453\n",
      "CHIS 40.74295774647888 88.65373134328358\n",
      "COAH 5.731481481481483 1.0348837209302326\n",
      "COL 2.3363157894736837 4.565625\n",
      "DF 5.908970588235294 10.831060606060607\n",
      "DGO 5.645882352941176 2.8125\n",
      "GRO 1.172340425531915 1.7160919540229884\n",
      "GTO 2.735454545454545 3.164383561643836\n",
      "HGO 13.343809523809522 26.507894736842104\n",
      "JAL 8.719272727272726 10.752173913043478\n",
      "MEX 4.6706666666666665 12.24625\n",
      "MICH 7.173333333333333 13.926153846153847\n",
      "MOR 0.4291111111111111 1.2580645161290323\n",
      "NAY 0.5825 1.6681818181818182\n",
      "NL 26.570857142857143 19.78125\n",
      "OAX 28.508750000000003 35.540740740740745\n",
      "PUE 12.75016129032258 63.41866666666669\n",
      "QRO 2.085714285714286 0.4461538461538461\n",
      "QROO 101.29714285714284 77.32380952380952\n",
      "SIN 8.102978723404256 0.25846153846153846\n",
      "SLP 29.77318181818182 21.120833333333334\n",
      "SON 19.13021739130435 0.6014705882352942\n",
      "TAB 132.25318181818182 304.6192307692308\n",
      "TAMS 29.566774193548387 20.932835820895523\n",
      "TLAX 0.565 4.416666666666667\n",
      "VER 46.250612244897965 106.77798165137615\n",
      "YUC 35.9608 41.98333333333333\n",
      "ZAC 12.00488372093023 29.805479452054797\n"
     ]
    }
   ],
   "source": [
    "mean_2019_edo_ene = []\n",
    "mean_2018_edo_ene = []\n",
    "print('EDO', 'mean(ENE) 2019', 'mean(ENE) 2018')\n",
    "for edo in edos_2019:\n",
    "    w = lluvias_2019['EDO'] == edo \n",
    "    w2 = lluvias_2018['EDO'] == edo\n",
    "    mean_2019_edo_ene.append(lluvias_2019[w]['ENE'].mean())\n",
    "    mean_2018_edo_ene.append(lluvias_2018[w2]['ENE'].mean())\n",
    "    print(edo,lluvias_2019[w]['ENE'].mean(), lluvias_2018[w2]['ENE'].mean())"
   ]
  },
  {
   "cell_type": "code",
   "execution_count": 120,
   "metadata": {},
   "outputs": [
    {
     "name": "stdout",
     "output_type": "stream",
     "text": [
      "0.4291111111111111\n",
      "Estado con menor precipitación promedio:  TAB 0.4291111111111111\n",
      "Estado con mayor precipitación promedio:  MOR 132.25318181818182\n"
     ]
    }
   ],
   "source": [
    "#for i in range(len(edos_2019)):\n",
    "    #print(edos_2019[i],mean_2019_edo_ene[i])\n",
    "    \n",
    "    \n",
    "print(min(mean_2019_edo_ene))\n",
    "min_ene = min(mean_2019_edo_ene)\n",
    "max_ene = max(mean_2019_edo_ene)\n",
    "\n",
    "indx_min = np.where(mean_2019_edo_ene==max_ene)\n",
    "indx_max = np.where(mean_2019_edo_ene==min_ene)\n",
    "\n",
    "print('Estado con menor precipitación promedio: ', edos_2019[indx_min[0]][0], min_ene)\n",
    "print('Estado con mayor precipitación promedio: ', edos_2019[indx_max[0]][0], max_ene)"
   ]
  },
  {
   "cell_type": "code",
   "execution_count": 94,
   "metadata": {},
   "outputs": [],
   "source": [
    "#mean_2019_edo_ene = np.asarray(mean_2019_edo_ene)\n",
    "#mean_2019_edo_ene[:,1]"
   ]
  },
  {
   "cell_type": "code",
   "execution_count": null,
   "metadata": {},
   "outputs": [],
   "source": []
  },
  {
   "cell_type": "code",
   "execution_count": null,
   "metadata": {},
   "outputs": [],
   "source": []
  }
 ],
 "metadata": {
  "kernelspec": {
   "display_name": "Python 3",
   "language": "python",
   "name": "python3"
  },
  "language_info": {
   "codemirror_mode": {
    "name": "ipython",
    "version": 3
   },
   "file_extension": ".py",
   "mimetype": "text/x-python",
   "name": "python",
   "nbconvert_exporter": "python",
   "pygments_lexer": "ipython3",
   "version": "3.7.4"
  }
 },
 "nbformat": 4,
 "nbformat_minor": 4
}
