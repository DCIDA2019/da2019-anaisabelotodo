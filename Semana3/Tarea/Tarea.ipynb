{
 "cells": [
  {
   "cell_type": "markdown",
   "metadata": {},
   "source": [
    "# Tarea 3\n",
    "## Análisis de Datos\n",
    "## Ana Isabel Moreno Hernández \n",
    "## NUA: 434232"
   ]
  },
  {
   "cell_type": "markdown",
   "metadata": {},
   "source": [
    "# **Visualization with Matplotlib**"
   ]
  },
  {
   "cell_type": "code",
   "execution_count": 1,
   "metadata": {},
   "outputs": [],
   "source": [
    "import numpy as np\n",
    "import pandas as pd\n",
    "import requests\n",
    "import matplotlib.pyplot as plt\n",
    "import os"
   ]
  },
  {
   "cell_type": "markdown",
   "metadata": {},
   "source": [
    "Antes que nada, descargamos algunos conjuntos de datos para emplearlos en esta tarea-"
   ]
  },
  {
   "cell_type": "code",
   "execution_count": 2,
   "metadata": {},
   "outputs": [
    {
     "data": {
      "text/html": [
       "<div>\n",
       "<style scoped>\n",
       "    .dataframe tbody tr th:only-of-type {\n",
       "        vertical-align: middle;\n",
       "    }\n",
       "\n",
       "    .dataframe tbody tr th {\n",
       "        vertical-align: top;\n",
       "    }\n",
       "\n",
       "    .dataframe thead th {\n",
       "        text-align: right;\n",
       "    }\n",
       "</style>\n",
       "<table border=\"1\" class=\"dataframe\">\n",
       "  <thead>\n",
       "    <tr style=\"text-align: right;\">\n",
       "      <th></th>\n",
       "      <th>Country</th>\n",
       "      <th>Birth rate (births/1,000 population)</th>\n",
       "      <th>Year</th>\n",
       "    </tr>\n",
       "  </thead>\n",
       "  <tbody>\n",
       "    <tr>\n",
       "      <th>0</th>\n",
       "      <td>Angola</td>\n",
       "      <td>44</td>\n",
       "      <td>2017</td>\n",
       "    </tr>\n",
       "    <tr>\n",
       "      <th>1</th>\n",
       "      <td>Niger</td>\n",
       "      <td>44</td>\n",
       "      <td>2017</td>\n",
       "    </tr>\n",
       "    <tr>\n",
       "      <th>2</th>\n",
       "      <td>Mali</td>\n",
       "      <td>44</td>\n",
       "      <td>2017</td>\n",
       "    </tr>\n",
       "    <tr>\n",
       "      <th>3</th>\n",
       "      <td>Uganda</td>\n",
       "      <td>43</td>\n",
       "      <td>2017</td>\n",
       "    </tr>\n",
       "    <tr>\n",
       "      <th>4</th>\n",
       "      <td>Zambia</td>\n",
       "      <td>42</td>\n",
       "      <td>2017</td>\n",
       "    </tr>\n",
       "  </tbody>\n",
       "</table>\n",
       "</div>"
      ],
      "text/plain": [
       "  Country  Birth rate (births/1,000 population)  Year\n",
       "0  Angola                                    44  2017\n",
       "1   Niger                                    44  2017\n",
       "2    Mali                                    44  2017\n",
       "3  Uganda                                    43  2017\n",
       "4  Zambia                                    42  2017"
      ]
     },
     "execution_count": 2,
     "metadata": {},
     "output_type": "execute_result"
    }
   ],
   "source": [
    "# Tasas de años\n",
    "url = 'https://www.indexmundi.com/map/?t=0&v=25&r=xx&1=en'\n",
    "html = requests.get(url).content\n",
    "Birth_rate = pd.read_html(html)[2]\n",
    "Birth_rate.head()"
   ]
  },
  {
   "cell_type": "code",
   "execution_count": 3,
   "metadata": {},
   "outputs": [
    {
     "data": {
      "text/html": [
       "<div>\n",
       "<style scoped>\n",
       "    .dataframe tbody tr th:only-of-type {\n",
       "        vertical-align: middle;\n",
       "    }\n",
       "\n",
       "    .dataframe tbody tr th {\n",
       "        vertical-align: top;\n",
       "    }\n",
       "\n",
       "    .dataframe thead th {\n",
       "        text-align: right;\n",
       "    }\n",
       "</style>\n",
       "<table border=\"1\" class=\"dataframe\">\n",
       "  <thead>\n",
       "    <tr style=\"text-align: right;\">\n",
       "      <th></th>\n",
       "      <th>Country</th>\n",
       "      <th>Unemployment rate (%)</th>\n",
       "      <th>Year</th>\n",
       "    </tr>\n",
       "  </thead>\n",
       "  <tbody>\n",
       "    <tr>\n",
       "      <th>0</th>\n",
       "      <td>Zimbabwe</td>\n",
       "      <td>95</td>\n",
       "      <td>2009</td>\n",
       "    </tr>\n",
       "    <tr>\n",
       "      <th>1</th>\n",
       "      <td>Burkina Faso</td>\n",
       "      <td>77</td>\n",
       "      <td>2004</td>\n",
       "    </tr>\n",
       "    <tr>\n",
       "      <th>2</th>\n",
       "      <td>Djibouti</td>\n",
       "      <td>60</td>\n",
       "      <td>2014</td>\n",
       "    </tr>\n",
       "    <tr>\n",
       "      <th>3</th>\n",
       "      <td>Syria</td>\n",
       "      <td>50</td>\n",
       "      <td>2017</td>\n",
       "    </tr>\n",
       "    <tr>\n",
       "      <th>4</th>\n",
       "      <td>Senegal</td>\n",
       "      <td>48</td>\n",
       "      <td>2007</td>\n",
       "    </tr>\n",
       "  </tbody>\n",
       "</table>\n",
       "</div>"
      ],
      "text/plain": [
       "        Country  Unemployment rate (%)  Year\n",
       "0      Zimbabwe                     95  2009\n",
       "1  Burkina Faso                     77  2004\n",
       "2      Djibouti                     60  2014\n",
       "3         Syria                     50  2017\n",
       "4       Senegal                     48  2007"
      ]
     },
     "execution_count": 3,
     "metadata": {},
     "output_type": "execute_result"
    }
   ],
   "source": [
    "# Tasa de desempleo \n",
    "url = 'https://www.indexmundi.com/map/?t=0&v=74&r=xx&l=en'\n",
    "html = requests.get(url).content\n",
    "unemployement = pd.read_html(html)[2]\n",
    "unemployement.head()"
   ]
  },
  {
   "cell_type": "code",
   "execution_count": 31,
   "metadata": {},
   "outputs": [],
   "source": [
    "# Número de manchas solares por año\n",
    "anios = []\n",
    "manchas = []\n",
    "for i in range(5):\n",
    "    sunspots = np.loadtxt('sunspots.txt', dtype=[('anio',int),('Numero',float)], usecols = (i*2,i*2+1), unpack = True)\n",
    "    anios = np.concatenate((anios,sunspots[0]),axis=0)\n",
    "    manchas = np.concatenate((manchas,sunspots[1]),axis=0)"
   ]
  },
  {
   "cell_type": "code",
   "execution_count": 34,
   "metadata": {},
   "outputs": [],
   "source": [
    "# Datos de temperatura y precipitación\n",
    "temp_minima_2019 = pd.read_csv('temp_minima_2019.csv', encoding='latin-1')\n",
    "temp_media_2019 = pd.read_csv('temp_media_2019.csv', encoding='latin-1')\n",
    "temp_maxima_2019 = pd.read_csv('temp_maxima_2019.csv', encoding='latin-1')\n",
    "lluvias_2019 = pd.read_csv('lluvias_2019.csv', encoding='latin-1')\n",
    "\n",
    "temp_minima_2018 = pd.read_csv('temp_minima_2018.csv',encoding='latin-1')\n",
    "temp_media_2018 = pd.read_csv('temp_media_2018.csv',encoding='latin-1')\n",
    "temp_maxima_2018 = pd.read_csv('temp_maxima_2018.csv',encoding='latin-1')\n",
    "lluvias_2018 = pd.read_csv('lluvias_2018.csv',encoding='latin-1')"
   ]
  },
  {
   "cell_type": "code",
   "execution_count": 36,
   "metadata": {},
   "outputs": [
    {
     "data": {
      "text/html": [
       "<div>\n",
       "<style scoped>\n",
       "    .dataframe tbody tr th:only-of-type {\n",
       "        vertical-align: middle;\n",
       "    }\n",
       "\n",
       "    .dataframe tbody tr th {\n",
       "        vertical-align: top;\n",
       "    }\n",
       "\n",
       "    .dataframe thead th {\n",
       "        text-align: right;\n",
       "    }\n",
       "</style>\n",
       "<table border=\"1\" class=\"dataframe\">\n",
       "  <thead>\n",
       "    <tr style=\"text-align: right;\">\n",
       "      <th></th>\n",
       "      <th>Lon</th>\n",
       "      <th>Lat</th>\n",
       "      <th>Clave</th>\n",
       "      <th>Edo</th>\n",
       "      <th>Est</th>\n",
       "      <th>Tmin</th>\n",
       "    </tr>\n",
       "  </thead>\n",
       "  <tbody>\n",
       "    <tr>\n",
       "      <th>0</th>\n",
       "      <td>-101.51</td>\n",
       "      <td>20.43</td>\n",
       "      <td>ABSGJ</td>\n",
       "      <td>GTO</td>\n",
       "      <td>ABASOLO</td>\n",
       "      <td>7.5</td>\n",
       "    </tr>\n",
       "    <tr>\n",
       "      <th>1</th>\n",
       "      <td>-98.38</td>\n",
       "      <td>24.06</td>\n",
       "      <td>ABSTP</td>\n",
       "      <td>TAMPS</td>\n",
       "      <td>ABASOLO</td>\n",
       "      <td>7.9</td>\n",
       "    </tr>\n",
       "    <tr>\n",
       "      <th>2</th>\n",
       "      <td>-116.90</td>\n",
       "      <td>32.44</td>\n",
       "      <td>ALRBN</td>\n",
       "      <td>BC</td>\n",
       "      <td>ABELARDO L. RODRIGUEZ</td>\n",
       "      <td>10.2</td>\n",
       "    </tr>\n",
       "    <tr>\n",
       "      <th>3</th>\n",
       "      <td>-97.97</td>\n",
       "      <td>20.17</td>\n",
       "      <td>ACJPB</td>\n",
       "      <td>PUE</td>\n",
       "      <td>ACAJETE                           *</td>\n",
       "      <td>2.4</td>\n",
       "    </tr>\n",
       "    <tr>\n",
       "      <th>4</th>\n",
       "      <td>-92.80</td>\n",
       "      <td>16.55</td>\n",
       "      <td>ACACP</td>\n",
       "      <td>CHIS</td>\n",
       "      <td>ACALA</td>\n",
       "      <td>13.9</td>\n",
       "    </tr>\n",
       "  </tbody>\n",
       "</table>\n",
       "</div>"
      ],
      "text/plain": [
       "      Lon    Lat  Clave    Edo                                  Est  Tmin\n",
       "0 -101.51  20.43  ABSGJ    GTO                              ABASOLO   7.5\n",
       "1  -98.38  24.06  ABSTP  TAMPS                              ABASOLO   7.9\n",
       "2 -116.90  32.44  ALRBN     BC                ABELARDO L. RODRIGUEZ  10.2\n",
       "3  -97.97  20.17  ACJPB    PUE  ACAJETE                           *   2.4\n",
       "4  -92.80  16.55  ACACP   CHIS                                ACALA  13.9"
      ]
     },
     "execution_count": 36,
     "metadata": {},
     "output_type": "execute_result"
    }
   ],
   "source": [
    "temp_minima_2018.head()"
   ]
  },
  {
   "cell_type": "markdown",
   "metadata": {},
   "source": [
    "## **Simple line plots**"
   ]
  },
  {
   "cell_type": "code",
   "execution_count": null,
   "metadata": {},
   "outputs": [],
   "source": []
  }
 ],
 "metadata": {
  "kernelspec": {
   "display_name": "Python 3",
   "language": "python",
   "name": "python3"
  },
  "language_info": {
   "codemirror_mode": {
    "name": "ipython",
    "version": 3
   },
   "file_extension": ".py",
   "mimetype": "text/x-python",
   "name": "python",
   "nbconvert_exporter": "python",
   "pygments_lexer": "ipython3",
   "version": "3.7.3"
  }
 },
 "nbformat": 4,
 "nbformat_minor": 4
}
