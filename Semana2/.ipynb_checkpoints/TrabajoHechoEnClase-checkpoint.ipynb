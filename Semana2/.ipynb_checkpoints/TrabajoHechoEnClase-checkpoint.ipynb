{
 "cells": [
  {
   "cell_type": "code",
   "execution_count": 36,
   "metadata": {},
   "outputs": [],
   "source": [
    "import numpy as np\n",
    "import matplotlib.pyplot as plt"
   ]
  },
  {
   "cell_type": "code",
   "execution_count": 37,
   "metadata": {},
   "outputs": [],
   "source": [
    "def f(x):\n",
    "    y = []\n",
    "    for i in range(len(x)):\n",
    "        if x[i]%2 == 0:\n",
    "            y.append(x[i]*x[i])\n",
    "        else:\n",
    "            y.append(np.log(x[i]))\n",
    "    return y"
   ]
  },
  {
   "cell_type": "code",
   "execution_count": 38,
   "metadata": {},
   "outputs": [],
   "source": [
    "def f2(x):\n",
    "    if x%2 == 0:\n",
    "        return x*x\n",
    "    else:\n",
    "        return np.log(x)\n",
    "    return x"
   ]
  },
  {
   "cell_type": "code",
   "execution_count": 39,
   "metadata": {},
   "outputs": [
    {
     "data": {
      "text/plain": [
       "array([ 1,  4,  7, 10, 13, 16, 19, 22, 25, 28, 31, 34, 37, 40, 43, 46, 49])"
      ]
     },
     "execution_count": 39,
     "metadata": {},
     "output_type": "execute_result"
    }
   ],
   "source": [
    "x = np.arange(1, 50, 3)\n",
    "x"
   ]
  },
  {
   "cell_type": "code",
   "execution_count": 40,
   "metadata": {},
   "outputs": [
    {
     "data": {
      "text/plain": [
       "[0.0,\n",
       " 16,\n",
       " 1.9459101490553132,\n",
       " 100,\n",
       " 2.5649493574615367,\n",
       " 256,\n",
       " 2.9444389791664403,\n",
       " 484,\n",
       " 3.2188758248682006,\n",
       " 784,\n",
       " 3.4339872044851463,\n",
       " 1156,\n",
       " 3.6109179126442243,\n",
       " 1600,\n",
       " 3.7612001156935624,\n",
       " 2116,\n",
       " 3.8918202981106265]"
      ]
     },
     "execution_count": 40,
     "metadata": {},
     "output_type": "execute_result"
    }
   ],
   "source": [
    "f(x)"
   ]
  },
  {
   "cell_type": "code",
   "execution_count": 41,
   "metadata": {},
   "outputs": [
    {
     "data": {
      "text/plain": [
       "array([0.00000000e+00, 1.60000000e+01, 1.94591015e+00, 1.00000000e+02,\n",
       "       2.56494936e+00, 2.56000000e+02, 2.94443898e+00, 4.84000000e+02,\n",
       "       3.21887582e+00, 7.84000000e+02, 3.43398720e+00, 1.15600000e+03,\n",
       "       3.61091791e+00, 1.60000000e+03, 3.76120012e+00, 2.11600000e+03,\n",
       "       3.89182030e+00])"
      ]
     },
     "execution_count": 41,
     "metadata": {},
     "output_type": "execute_result"
    }
   ],
   "source": [
    "# Otra forma de hacerlo\n",
    "f3 = np.vectorize(f2)\n",
    "f3(x)"
   ]
  },
  {
   "cell_type": "markdown",
   "metadata": {},
   "source": [
    "Ejercicio 2"
   ]
  },
  {
   "cell_type": "code",
   "execution_count": 47,
   "metadata": {},
   "outputs": [],
   "source": [
    "def g(x):\n",
    "    if x > 0:\n",
    "        return np.cos(x)\n",
    "    else:\n",
    "        return np.sin(x)\n",
    "        \n",
    "g1 = np.vectorize(g)"
   ]
  },
  {
   "cell_type": "code",
   "execution_count": 48,
   "metadata": {},
   "outputs": [
    {
     "data": {
      "text/plain": [
       "array([ 2.44929360e-16,  2.53654584e-01,  4.90717552e-01,  6.95682551e-01,\n",
       "        8.55142763e-01,  9.58667853e-01,  9.99486216e-01,  9.74927912e-01,\n",
       "        8.86599306e-01,  7.40277997e-01,  5.45534901e-01,  3.15108218e-01,\n",
       "        6.40702200e-02, -1.91158629e-01, -4.33883739e-01, -6.48228395e-01,\n",
       "       -8.20172255e-01, -9.38468422e-01, -9.95379113e-01, -9.87181783e-01,\n",
       "       -9.14412623e-01, -7.81831482e-01, -5.98110530e-01, -3.75267005e-01,\n",
       "       -1.27877162e-01,  9.91790014e-01,  9.26916757e-01,  8.01413622e-01,\n",
       "        6.23489802e-01,  4.04783343e-01,  1.59599895e-01, -9.60230259e-02,\n",
       "       -3.45365054e-01, -5.72116660e-01, -7.61445958e-01, -9.00968868e-01,\n",
       "       -9.81559157e-01, -9.97945393e-01, -9.49055747e-01, -8.38088105e-01,\n",
       "       -6.72300890e-01, -4.62538290e-01, -2.22520934e-01,  3.20515776e-02,\n",
       "        2.84527587e-01,  5.18392568e-01,  7.18349350e-01,  8.71318704e-01,\n",
       "        9.67294863e-01,  1.00000000e+00])"
      ]
     },
     "execution_count": 48,
     "metadata": {},
     "output_type": "execute_result"
    }
   ],
   "source": [
    "x2 = np.linspace(-2*np.pi, 2*np.pi, 50)\n",
    "g1(x2)"
   ]
  },
  {
   "cell_type": "code",
   "execution_count": 49,
   "metadata": {},
   "outputs": [
    {
     "data": {
      "text/plain": [
       "[<matplotlib.lines.Line2D at 0x7f6133cd44a8>]"
      ]
     },
     "execution_count": 49,
     "metadata": {},
     "output_type": "execute_result"
    },
    {
     "data": {
      "image/png": "[encoded data removed]",
      "text/plain": [
       "<Figure size 432x288 with 1 Axes>"
      ]
     },
     "metadata": {
      "needs_background": "light"
     },
     "output_type": "display_data"
    }
   ],
   "source": [
    "plt.plot(x2,g1(x2))"
   ]
  },
  {
   "cell_type": "code",
   "execution_count": 62,
   "metadata": {},
   "outputs": [
    {
     "name": "stdout",
     "output_type": "stream",
     "text": [
      "135 µs ± 957 ns per loop (mean ± std. dev. of 7 runs, 10000 loops each)\n",
      "143 µs ± 197 ns per loop (mean ± std. dev. of 7 runs, 10000 loops each)\n"
     ]
    }
   ],
   "source": [
    "y = np.zeros_like(x2)\n",
    "w = x2 > 0\n",
    "%timeit y[w] = g1(x2[w])\n",
    "%timeit y[~w] = g1(x2[~w])"
   ]
  },
  {
   "cell_type": "code",
   "execution_count": 54,
   "metadata": {},
   "outputs": [
    {
     "data": {
      "text/plain": [
       "array([ 2.44929360e-16,  2.53654584e-01,  4.90717552e-01,  6.95682551e-01,\n",
       "        8.55142763e-01,  9.58667853e-01,  9.99486216e-01,  9.74927912e-01,\n",
       "        8.86599306e-01,  7.40277997e-01,  5.45534901e-01,  3.15108218e-01,\n",
       "        6.40702200e-02, -1.91158629e-01, -4.33883739e-01, -6.48228395e-01,\n",
       "       -8.20172255e-01, -9.38468422e-01, -9.95379113e-01, -9.87181783e-01,\n",
       "       -9.14412623e-01, -7.81831482e-01, -5.98110530e-01, -3.75267005e-01,\n",
       "       -1.27877162e-01,  9.91790014e-01,  9.26916757e-01,  8.01413622e-01,\n",
       "        6.23489802e-01,  4.04783343e-01,  1.59599895e-01, -9.60230259e-02,\n",
       "       -3.45365054e-01, -5.72116660e-01, -7.61445958e-01, -9.00968868e-01,\n",
       "       -9.81559157e-01, -9.97945393e-01, -9.49055747e-01, -8.38088105e-01,\n",
       "       -6.72300890e-01, -4.62538290e-01, -2.22520934e-01,  3.20515776e-02,\n",
       "        2.84527587e-01,  5.18392568e-01,  7.18349350e-01,  8.71318704e-01,\n",
       "        9.67294863e-01,  1.00000000e+00])"
      ]
     },
     "execution_count": 54,
     "metadata": {},
     "output_type": "execute_result"
    }
   ],
   "source": [
    "y"
   ]
  },
  {
   "cell_type": "code",
   "execution_count": 55,
   "metadata": {},
   "outputs": [
    {
     "data": {
      "text/plain": [
       "array([0.12822827, 0.38468481, 0.64114136, 0.8975979 , 1.15405444,\n",
       "       1.41051099, 1.66696753, 1.92342407, 2.17988062, 2.43633716,\n",
       "       2.6927937 , 2.94925025, 3.20570679, 3.46216333, 3.71861988,\n",
       "       3.97507642, 4.23153296, 4.48798951, 4.74444605, 5.00090259,\n",
       "       5.25735913, 5.51381568, 5.77027222, 6.02672876, 6.28318531])"
      ]
     },
     "execution_count": 55,
     "metadata": {},
     "output_type": "execute_result"
    }
   ],
   "source": [
    "x2[w]"
   ]
  },
  {
   "cell_type": "code",
   "execution_count": 61,
   "metadata": {},
   "outputs": [
    {
     "name": "stdout",
     "output_type": "stream",
     "text": [
      "47.1 ns ± 0.053 ns per loop (mean ± std. dev. of 7 runs, 10000000 loops each)\n"
     ]
    }
   ],
   "source": [
    "# Otra forma útil\n",
    "# Forma compacta y amigable con numpy de escribirlo\n",
    "y2 = np.asarray([g(x) for x in x2])\n",
    "%timeit y2"
   ]
  },
  {
   "cell_type": "code",
   "execution_count": 66,
   "metadata": {},
   "outputs": [],
   "source": [
    "def g2(x):\n",
    "    y = np.zeros_like(x)\n",
    "    for i in range(len(x)):\n",
    "        if x[i]>0:\n",
    "            y[i] = np.cos(x[i])\n",
    "        else:\n",
    "            y[i] = np.sin(x[i])\n",
    "    return y"
   ]
  },
  {
   "cell_type": "code",
   "execution_count": 68,
   "metadata": {},
   "outputs": [
    {
     "name": "stdout",
     "output_type": "stream",
     "text": [
      "343 µs ± 3.96 µs per loop (mean ± std. dev. of 7 runs, 1000 loops each)\n"
     ]
    }
   ],
   "source": [
    "%timeit g2(x2)"
   ]
  },
  {
   "cell_type": "markdown",
   "metadata": {},
   "source": [
    "## Clases"
   ]
  },
  {
   "cell_type": "code",
   "execution_count": 70,
   "metadata": {},
   "outputs": [],
   "source": [
    "# Clase vacía\n",
    "class estudiante():\n",
    "    pass"
   ]
  },
  {
   "cell_type": "code",
   "execution_count": null,
   "metadata": {},
   "outputs": [],
   "source": [
    "estudiantes = estudiante()"
   ]
  },
  {
   "cell_type": "code",
   "execution_count": 80,
   "metadata": {},
   "outputs": [],
   "source": [
    "e1 = estudiante()\n",
    "e2 = estudiante()"
   ]
  },
  {
   "cell_type": "code",
   "execution_count": 81,
   "metadata": {},
   "outputs": [],
   "source": [
    "e1.nombre, e2.nombre = \"Anita\", \"Antonio\"\n",
    "e1.edad, e2.edad = 21, 22\n",
    "e1.coche, e2.coche = False, False"
   ]
  },
  {
   "cell_type": "code",
   "execution_count": 82,
   "metadata": {},
   "outputs": [
    {
     "data": {
      "text/plain": [
       "<__main__.estudiante at 0x7f6133c7cc88>"
      ]
     },
     "execution_count": 82,
     "metadata": {},
     "output_type": "execute_result"
    }
   ],
   "source": [
    "e1"
   ]
  },
  {
   "cell_type": "code",
   "execution_count": 83,
   "metadata": {},
   "outputs": [
    {
     "data": {
      "text/plain": [
       "'Anita'"
      ]
     },
     "execution_count": 83,
     "metadata": {},
     "output_type": "execute_result"
    }
   ],
   "source": [
    "e1.nombre"
   ]
  },
  {
   "cell_type": "code",
   "execution_count": 84,
   "metadata": {},
   "outputs": [],
   "source": [
    "estudiantes = [e1,e2] # Se hace una lista"
   ]
  },
  {
   "cell_type": "code",
   "execution_count": 85,
   "metadata": {},
   "outputs": [
    {
     "data": {
      "text/plain": [
       "[<__main__.estudiante at 0x7f6133c7cc88>,\n",
       " <__main__.estudiante at 0x7f6133c7cc50>]"
      ]
     },
     "execution_count": 85,
     "metadata": {},
     "output_type": "execute_result"
    }
   ],
   "source": [
    "estudiantes"
   ]
  },
  {
   "cell_type": "code",
   "execution_count": 86,
   "metadata": {},
   "outputs": [
    {
     "data": {
      "text/plain": [
       "'Antonio'"
      ]
     },
     "execution_count": 86,
     "metadata": {},
     "output_type": "execute_result"
    }
   ],
   "source": [
    "estudiantes[1].nombre"
   ]
  },
  {
   "cell_type": "code",
   "execution_count": 88,
   "metadata": {},
   "outputs": [],
   "source": [
    "estudiante.nombre = \"Anita\", \"Antonio\""
   ]
  },
  {
   "cell_type": "code",
   "execution_count": 89,
   "metadata": {},
   "outputs": [
    {
     "data": {
      "text/plain": [
       "'Antonio'"
      ]
     },
     "execution_count": 89,
     "metadata": {},
     "output_type": "execute_result"
    }
   ],
   "source": [
    "estudiante.nombre[1]"
   ]
  },
  {
   "cell_type": "code",
   "execution_count": 90,
   "metadata": {},
   "outputs": [
    {
     "data": {
      "text/plain": [
       "'Anita'"
      ]
     },
     "execution_count": 90,
     "metadata": {},
     "output_type": "execute_result"
    }
   ],
   "source": [
    "e1.nombre"
   ]
  },
  {
   "cell_type": "code",
   "execution_count": 122,
   "metadata": {},
   "outputs": [],
   "source": [
    "# Para hacer funciones\n",
    "class funciones:\n",
    "    def g(self,x):\n",
    "        self.cosx = np.cos(x)\n",
    "        self.sinx = np.sin(x)\n",
    "        return self.cosx , self.sinx # self para indicar que es un atributo de la clase funciones\n",
    "        \n",
    "    def f(self): #Significa que es parte de la clase funciones, no se necesita argumento para llamarla\n",
    "        return \"Hola\"\n",
    "    \n",
    "    def f2(self,x):\n",
    "        if x%2 == 0:\n",
    "            return x*x\n",
    "        else:\n",
    "            return np.log(x)"
   ]
  },
  {
   "cell_type": "code",
   "execution_count": 123,
   "metadata": {},
   "outputs": [],
   "source": [
    "x = funciones()"
   ]
  },
  {
   "cell_type": "code",
   "execution_count": 124,
   "metadata": {},
   "outputs": [
    {
     "data": {
      "text/plain": [
       "'Hola'"
      ]
     },
     "execution_count": 124,
     "metadata": {},
     "output_type": "execute_result"
    }
   ],
   "source": [
    "x.f()"
   ]
  },
  {
   "cell_type": "code",
   "execution_count": 134,
   "metadata": {},
   "outputs": [],
   "source": [
    "b = x.g(x2)"
   ]
  },
  {
   "cell_type": "code",
   "execution_count": 135,
   "metadata": {},
   "outputs": [],
   "source": [
    "f22 = np.vectorize(x.f2)"
   ]
  },
  {
   "cell_type": "code",
   "execution_count": 136,
   "metadata": {},
   "outputs": [
    {
     "name": "stderr",
     "output_type": "stream",
     "text": [
      "/home/anita/Documents/Analisis_Datos/miniconda3/envs/data_main/lib/python3.7/site-packages/ipykernel_launcher.py:15: RuntimeWarning: invalid value encountered in log\n",
      "  from ipykernel import kernelapp as app\n"
     ]
    }
   ],
   "source": [
    "a = f22(x2)"
   ]
  },
  {
   "cell_type": "code",
   "execution_count": 137,
   "metadata": {},
   "outputs": [
    {
     "data": {
      "text/plain": [
       "array([-6.28318531, -6.02672876, -5.77027222, -5.51381568, -5.25735913,\n",
       "       -5.00090259, -4.74444605, -4.48798951, -4.23153296, -3.97507642,\n",
       "       -3.71861988, -3.46216333, -3.20570679, -2.94925025, -2.6927937 ,\n",
       "       -2.43633716, -2.17988062, -1.92342407, -1.66696753, -1.41051099,\n",
       "       -1.15405444, -0.8975979 , -0.64114136, -0.38468481, -0.12822827,\n",
       "        0.12822827,  0.38468481,  0.64114136,  0.8975979 ,  1.15405444,\n",
       "        1.41051099,  1.66696753,  1.92342407,  2.17988062,  2.43633716,\n",
       "        2.6927937 ,  2.94925025,  3.20570679,  3.46216333,  3.71861988,\n",
       "        3.97507642,  4.23153296,  4.48798951,  4.74444605,  5.00090259,\n",
       "        5.25735913,  5.51381568,  5.77027222,  6.02672876,  6.28318531])"
      ]
     },
     "execution_count": 137,
     "metadata": {},
     "output_type": "execute_result"
    }
   ],
   "source": [
    "x2 #Tiene sentido porque x2 tiene valores menores a -1"
   ]
  },
  {
   "cell_type": "code",
   "execution_count": 138,
   "metadata": {},
   "outputs": [
    {
     "data": {
      "text/plain": [
       "array([        nan,         nan,         nan,         nan,         nan,\n",
       "               nan,         nan,         nan,         nan,         nan,\n",
       "               nan,         nan,         nan,         nan,         nan,\n",
       "               nan,         nan,         nan,         nan,         nan,\n",
       "               nan,         nan,         nan,         nan,         nan,\n",
       "       -2.05394323, -0.95533094, -0.44450532, -0.10803308,  0.14328135,\n",
       "        0.34395204,  0.51100613,  0.65410697,  0.77927011,  0.89049575,\n",
       "        0.99057921,  1.08155098,  1.16493259,  1.24189363,  1.3133526 ,\n",
       "        1.38004397,  1.44256433,  1.50140483,  1.55697468,  1.60961841,\n",
       "        1.65962884,  1.70725688,  1.75271926,  1.79620437,  1.83787707])"
      ]
     },
     "execution_count": 138,
     "metadata": {},
     "output_type": "execute_result"
    }
   ],
   "source": [
    "a"
   ]
  },
  {
   "cell_type": "code",
   "execution_count": 139,
   "metadata": {},
   "outputs": [
    {
     "data": {
      "text/plain": [
       "(array([        nan,         nan,         nan,         nan,         nan,\n",
       "                nan,         nan,         nan,         nan,         nan,\n",
       "                nan,         nan,         nan,         nan,         nan,\n",
       "                nan,         nan,         nan,         nan,         nan,\n",
       "                nan,         nan,         nan,         nan,         nan,\n",
       "        -2.05394323, -0.95533094, -0.44450532, -0.10803308,  0.14328135,\n",
       "         0.34395204,  0.51100613,  0.65410697,  0.77927011,  0.89049575,\n",
       "         0.99057921,  1.08155098,  1.16493259,  1.24189363,  1.3133526 ,\n",
       "         1.38004397,  1.44256433,  1.50140483,  1.55697468,  1.60961841,\n",
       "         1.65962884,  1.70725688,  1.75271926,  1.79620437,  1.83787707]),\n",
       " (array([ 1.        ,  0.96729486,  0.8713187 ,  0.71834935,  0.51839257,\n",
       "          0.28452759,  0.03205158, -0.22252093, -0.46253829, -0.67230089,\n",
       "         -0.8380881 , -0.94905575, -0.99794539, -0.98155916, -0.90096887,\n",
       "         -0.76144596, -0.57211666, -0.34536505, -0.09602303,  0.1595999 ,\n",
       "          0.40478334,  0.6234898 ,  0.80141362,  0.92691676,  0.99179001,\n",
       "          0.99179001,  0.92691676,  0.80141362,  0.6234898 ,  0.40478334,\n",
       "          0.1595999 , -0.09602303, -0.34536505, -0.57211666, -0.76144596,\n",
       "         -0.90096887, -0.98155916, -0.99794539, -0.94905575, -0.8380881 ,\n",
       "         -0.67230089, -0.46253829, -0.22252093,  0.03205158,  0.28452759,\n",
       "          0.51839257,  0.71834935,  0.8713187 ,  0.96729486,  1.        ]),\n",
       "  array([ 2.44929360e-16,  2.53654584e-01,  4.90717552e-01,  6.95682551e-01,\n",
       "          8.55142763e-01,  9.58667853e-01,  9.99486216e-01,  9.74927912e-01,\n",
       "          8.86599306e-01,  7.40277997e-01,  5.45534901e-01,  3.15108218e-01,\n",
       "          6.40702200e-02, -1.91158629e-01, -4.33883739e-01, -6.48228395e-01,\n",
       "         -8.20172255e-01, -9.38468422e-01, -9.95379113e-01, -9.87181783e-01,\n",
       "         -9.14412623e-01, -7.81831482e-01, -5.98110530e-01, -3.75267005e-01,\n",
       "         -1.27877162e-01,  1.27877162e-01,  3.75267005e-01,  5.98110530e-01,\n",
       "          7.81831482e-01,  9.14412623e-01,  9.87181783e-01,  9.95379113e-01,\n",
       "          9.38468422e-01,  8.20172255e-01,  6.48228395e-01,  4.33883739e-01,\n",
       "          1.91158629e-01, -6.40702200e-02, -3.15108218e-01, -5.45534901e-01,\n",
       "         -7.40277997e-01, -8.86599306e-01, -9.74927912e-01, -9.99486216e-01,\n",
       "         -9.58667853e-01, -8.55142763e-01, -6.95682551e-01, -4.90717552e-01,\n",
       "         -2.53654584e-01, -2.44929360e-16])))"
      ]
     },
     "execution_count": 139,
     "metadata": {},
     "output_type": "execute_result"
    }
   ],
   "source": [
    "a , b"
   ]
  },
  {
   "cell_type": "code",
   "execution_count": null,
   "metadata": {},
   "outputs": [],
   "source": []
  }
 ],
 "metadata": {
  "kernelspec": {
   "display_name": "Python 3",
   "language": "python",
   "name": "python3"
  },
  "language_info": {
   "codemirror_mode": {
    "name": "ipython",
    "version": 3
   },
   "file_extension": ".py",
   "mimetype": "text/x-python",
   "name": "python",
   "nbconvert_exporter": "python",
   "pygments_lexer": "ipython3",
   "version": "3.7.3"
  }
 },
 "nbformat": 4,
 "nbformat_minor": 4
}
