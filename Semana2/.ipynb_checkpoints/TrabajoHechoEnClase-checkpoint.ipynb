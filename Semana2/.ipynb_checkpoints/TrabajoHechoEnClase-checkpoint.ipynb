{
 "cells": [
  {
   "cell_type": "code",
   "execution_count": 1,
   "metadata": {},
   "outputs": [],
   "source": [
    "import numpy as np\n",
    "import matplotlib.pyplot as plt"
   ]
  },
  {
   "cell_type": "code",
   "execution_count": 2,
   "metadata": {},
   "outputs": [],
   "source": [
    "def f(x):\n",
    "    y = []\n",
    "    for i in range(len(x)):\n",
    "        if x[i]%2 == 0:\n",
    "            y.append(x[i]*x[i])\n",
    "        else:\n",
    "            y.append(np.log(x[i]))\n",
    "    return y"
   ]
  },
  {
   "cell_type": "code",
   "execution_count": 3,
   "metadata": {},
   "outputs": [],
   "source": [
    "def f2(x):\n",
    "    if x%2 == 0:\n",
    "        return x*x\n",
    "    else:\n",
    "        return np.log(x)\n",
    "    return x"
   ]
  },
  {
   "cell_type": "code",
   "execution_count": 4,
   "metadata": {},
   "outputs": [
    {
     "data": {
      "text/plain": [
       "array([ 1,  4,  7, 10, 13, 16, 19, 22, 25, 28, 31, 34, 37, 40, 43, 46, 49])"
      ]
     },
     "execution_count": 4,
     "metadata": {},
     "output_type": "execute_result"
    }
   ],
   "source": [
    "x = np.arange(1, 50, 3)\n",
    "x"
   ]
  },
  {
   "cell_type": "code",
   "execution_count": 5,
   "metadata": {},
   "outputs": [
    {
     "data": {
      "text/plain": [
       "[0.0,\n",
       " 16,\n",
       " 1.9459101490553132,\n",
       " 100,\n",
       " 2.5649493574615367,\n",
       " 256,\n",
       " 2.9444389791664403,\n",
       " 484,\n",
       " 3.2188758248682006,\n",
       " 784,\n",
       " 3.4339872044851463,\n",
       " 1156,\n",
       " 3.6109179126442243,\n",
       " 1600,\n",
       " 3.7612001156935624,\n",
       " 2116,\n",
       " 3.8918202981106265]"
      ]
     },
     "execution_count": 5,
     "metadata": {},
     "output_type": "execute_result"
    }
   ],
   "source": [
    "f(x)"
   ]
  },
  {
   "cell_type": "code",
   "execution_count": 6,
   "metadata": {},
   "outputs": [
    {
     "data": {
      "text/plain": [
       "array([0.00000000e+00, 1.60000000e+01, 1.94591015e+00, 1.00000000e+02,\n",
       "       2.56494936e+00, 2.56000000e+02, 2.94443898e+00, 4.84000000e+02,\n",
       "       3.21887582e+00, 7.84000000e+02, 3.43398720e+00, 1.15600000e+03,\n",
       "       3.61091791e+00, 1.60000000e+03, 3.76120012e+00, 2.11600000e+03,\n",
       "       3.89182030e+00])"
      ]
     },
     "execution_count": 6,
     "metadata": {},
     "output_type": "execute_result"
    }
   ],
   "source": [
    "# Otra forma de hacerlo\n",
    "f3 = np.vectorize(f2)\n",
    "f3(x)"
   ]
  },
  {
   "cell_type": "markdown",
   "metadata": {},
   "source": [
    "Ejercicio 2"
   ]
  },
  {
   "cell_type": "code",
   "execution_count": 7,
   "metadata": {},
   "outputs": [],
   "source": [
    "def g(x):\n",
    "    if x > 0:\n",
    "        return np.cos(x)\n",
    "    else:\n",
    "        return np.sin(x)\n",
    "        \n",
    "g1 = np.vectorize(g)"
   ]
  },
  {
   "cell_type": "code",
   "execution_count": 8,
   "metadata": {},
   "outputs": [
    {
     "data": {
      "text/plain": [
       "array([ 2.44929360e-16,  2.53654584e-01,  4.90717552e-01,  6.95682551e-01,\n",
       "        8.55142763e-01,  9.58667853e-01,  9.99486216e-01,  9.74927912e-01,\n",
       "        8.86599306e-01,  7.40277997e-01,  5.45534901e-01,  3.15108218e-01,\n",
       "        6.40702200e-02, -1.91158629e-01, -4.33883739e-01, -6.48228395e-01,\n",
       "       -8.20172255e-01, -9.38468422e-01, -9.95379113e-01, -9.87181783e-01,\n",
       "       -9.14412623e-01, -7.81831482e-01, -5.98110530e-01, -3.75267005e-01,\n",
       "       -1.27877162e-01,  9.91790014e-01,  9.26916757e-01,  8.01413622e-01,\n",
       "        6.23489802e-01,  4.04783343e-01,  1.59599895e-01, -9.60230259e-02,\n",
       "       -3.45365054e-01, -5.72116660e-01, -7.61445958e-01, -9.00968868e-01,\n",
       "       -9.81559157e-01, -9.97945393e-01, -9.49055747e-01, -8.38088105e-01,\n",
       "       -6.72300890e-01, -4.62538290e-01, -2.22520934e-01,  3.20515776e-02,\n",
       "        2.84527587e-01,  5.18392568e-01,  7.18349350e-01,  8.71318704e-01,\n",
       "        9.67294863e-01,  1.00000000e+00])"
      ]
     },
     "execution_count": 8,
     "metadata": {},
     "output_type": "execute_result"
    }
   ],
   "source": [
    "x2 = np.linspace(-2*np.pi, 2*np.pi, 50)\n",
    "g1(x2)"
   ]
  },
  {
   "cell_type": "code",
   "execution_count": 9,
   "metadata": {},
   "outputs": [
    {
     "data": {
      "text/plain": [
       "[<matplotlib.lines.Line2D at 0x7ff9504eacc0>]"
      ]
     },
     "execution_count": 9,
     "metadata": {},
     "output_type": "execute_result"
    },
    {
     "data": {
      "image/png": "[encoded data removed]",
      "text/plain": [
       "<Figure size 432x288 with 1 Axes>"
      ]
     },
     "metadata": {
      "needs_background": "light"
     },
     "output_type": "display_data"
    }
   ],
   "source": [
    "plt.plot(x2,g1(x2))"
   ]
  },
  {
   "cell_type": "code",
   "execution_count": 10,
   "metadata": {},
   "outputs": [
    {
     "name": "stdout",
     "output_type": "stream",
     "text": [
      "134 µs ± 191 ns per loop (mean ± std. dev. of 7 runs, 10000 loops each)\n",
      "144 µs ± 701 ns per loop (mean ± std. dev. of 7 runs, 10000 loops each)\n"
     ]
    }
   ],
   "source": [
    "y = np.zeros_like(x2)\n",
    "w = x2 > 0\n",
    "%timeit y[w] = g1(x2[w])\n",
    "%timeit y[~w] = g1(x2[~w])"
   ]
  },
  {
   "cell_type": "code",
   "execution_count": 11,
   "metadata": {},
   "outputs": [
    {
     "data": {
      "text/plain": [
       "array([ 2.44929360e-16,  2.53654584e-01,  4.90717552e-01,  6.95682551e-01,\n",
       "        8.55142763e-01,  9.58667853e-01,  9.99486216e-01,  9.74927912e-01,\n",
       "        8.86599306e-01,  7.40277997e-01,  5.45534901e-01,  3.15108218e-01,\n",
       "        6.40702200e-02, -1.91158629e-01, -4.33883739e-01, -6.48228395e-01,\n",
       "       -8.20172255e-01, -9.38468422e-01, -9.95379113e-01, -9.87181783e-01,\n",
       "       -9.14412623e-01, -7.81831482e-01, -5.98110530e-01, -3.75267005e-01,\n",
       "       -1.27877162e-01,  9.91790014e-01,  9.26916757e-01,  8.01413622e-01,\n",
       "        6.23489802e-01,  4.04783343e-01,  1.59599895e-01, -9.60230259e-02,\n",
       "       -3.45365054e-01, -5.72116660e-01, -7.61445958e-01, -9.00968868e-01,\n",
       "       -9.81559157e-01, -9.97945393e-01, -9.49055747e-01, -8.38088105e-01,\n",
       "       -6.72300890e-01, -4.62538290e-01, -2.22520934e-01,  3.20515776e-02,\n",
       "        2.84527587e-01,  5.18392568e-01,  7.18349350e-01,  8.71318704e-01,\n",
       "        9.67294863e-01,  1.00000000e+00])"
      ]
     },
     "execution_count": 11,
     "metadata": {},
     "output_type": "execute_result"
    }
   ],
   "source": [
    "y"
   ]
  },
  {
   "cell_type": "code",
   "execution_count": 12,
   "metadata": {},
   "outputs": [
    {
     "data": {
      "text/plain": [
       "array([0.12822827, 0.38468481, 0.64114136, 0.8975979 , 1.15405444,\n",
       "       1.41051099, 1.66696753, 1.92342407, 2.17988062, 2.43633716,\n",
       "       2.6927937 , 2.94925025, 3.20570679, 3.46216333, 3.71861988,\n",
       "       3.97507642, 4.23153296, 4.48798951, 4.74444605, 5.00090259,\n",
       "       5.25735913, 5.51381568, 5.77027222, 6.02672876, 6.28318531])"
      ]
     },
     "execution_count": 12,
     "metadata": {},
     "output_type": "execute_result"
    }
   ],
   "source": [
    "x2[w]"
   ]
  },
  {
   "cell_type": "code",
   "execution_count": 13,
   "metadata": {},
   "outputs": [
    {
     "name": "stdout",
     "output_type": "stream",
     "text": [
      "39.4 ns ± 0.112 ns per loop (mean ± std. dev. of 7 runs, 10000000 loops each)\n"
     ]
    }
   ],
   "source": [
    "# Otra forma útil\n",
    "# Forma compacta y amigable con numpy de escribirlo\n",
    "y2 = np.asarray([g(x) for x in x2])\n",
    "%timeit y2"
   ]
  },
  {
   "cell_type": "code",
   "execution_count": 14,
   "metadata": {},
   "outputs": [],
   "source": [
    "def g2(x):\n",
    "    y = np.zeros_like(x)\n",
    "    for i in range(len(x)):\n",
    "        if x[i]>0:\n",
    "            y[i] = np.cos(x[i])\n",
    "        else:\n",
    "            y[i] = np.sin(x[i])\n",
    "    return y"
   ]
  },
  {
   "cell_type": "code",
   "execution_count": 15,
   "metadata": {},
   "outputs": [
    {
     "name": "stdout",
     "output_type": "stream",
     "text": [
      "344 µs ± 4.54 µs per loop (mean ± std. dev. of 7 runs, 1000 loops each)\n"
     ]
    }
   ],
   "source": [
    "%timeit g2(x2)"
   ]
  },
  {
   "cell_type": "markdown",
   "metadata": {},
   "source": [
    "## Clases"
   ]
  },
  {
   "cell_type": "code",
   "execution_count": 16,
   "metadata": {},
   "outputs": [],
   "source": [
    "# Clase vacía\n",
    "class estudiante():\n",
    "    pass"
   ]
  },
  {
   "cell_type": "code",
   "execution_count": 17,
   "metadata": {},
   "outputs": [],
   "source": [
    "estudiantes = estudiante()"
   ]
  },
  {
   "cell_type": "code",
   "execution_count": 18,
   "metadata": {},
   "outputs": [],
   "source": [
    "e1 = estudiante()\n",
    "e2 = estudiante()"
   ]
  },
  {
   "cell_type": "code",
   "execution_count": 19,
   "metadata": {},
   "outputs": [],
   "source": [
    "e1.nombre, e2.nombre = \"Anita\", \"Antonio\"\n",
    "e1.edad, e2.edad = 21, 22\n",
    "e1.coche, e2.coche = False, False"
   ]
  },
  {
   "cell_type": "code",
   "execution_count": 20,
   "metadata": {},
   "outputs": [
    {
     "data": {
      "text/plain": [
       "<__main__.estudiante at 0x7ff950468d68>"
      ]
     },
     "execution_count": 20,
     "metadata": {},
     "output_type": "execute_result"
    }
   ],
   "source": [
    "e1"
   ]
  },
  {
   "cell_type": "code",
   "execution_count": 21,
   "metadata": {},
   "outputs": [
    {
     "data": {
      "text/plain": [
       "'Anita'"
      ]
     },
     "execution_count": 21,
     "metadata": {},
     "output_type": "execute_result"
    }
   ],
   "source": [
    "e1.nombre"
   ]
  },
  {
   "cell_type": "code",
   "execution_count": 22,
   "metadata": {},
   "outputs": [],
   "source": [
    "estudiantes = [e1,e2] # Se hace una lista"
   ]
  },
  {
   "cell_type": "code",
   "execution_count": 23,
   "metadata": {},
   "outputs": [
    {
     "data": {
      "text/plain": [
       "[<__main__.estudiante at 0x7ff950468d68>,\n",
       " <__main__.estudiante at 0x7ff950468eb8>]"
      ]
     },
     "execution_count": 23,
     "metadata": {},
     "output_type": "execute_result"
    }
   ],
   "source": [
    "estudiantes"
   ]
  },
  {
   "cell_type": "code",
   "execution_count": 24,
   "metadata": {},
   "outputs": [
    {
     "data": {
      "text/plain": [
       "'Antonio'"
      ]
     },
     "execution_count": 24,
     "metadata": {},
     "output_type": "execute_result"
    }
   ],
   "source": [
    "estudiantes[1].nombre"
   ]
  },
  {
   "cell_type": "code",
   "execution_count": 25,
   "metadata": {},
   "outputs": [],
   "source": [
    "estudiante.nombre = \"Anita\", \"Antonio\""
   ]
  },
  {
   "cell_type": "code",
   "execution_count": 26,
   "metadata": {},
   "outputs": [
    {
     "data": {
      "text/plain": [
       "'Antonio'"
      ]
     },
     "execution_count": 26,
     "metadata": {},
     "output_type": "execute_result"
    }
   ],
   "source": [
    "estudiante.nombre[1]"
   ]
  },
  {
   "cell_type": "code",
   "execution_count": 27,
   "metadata": {},
   "outputs": [
    {
     "data": {
      "text/plain": [
       "'Anita'"
      ]
     },
     "execution_count": 27,
     "metadata": {},
     "output_type": "execute_result"
    }
   ],
   "source": [
    "e1.nombre"
   ]
  },
  {
   "cell_type": "code",
   "execution_count": 59,
   "metadata": {},
   "outputs": [],
   "source": [
    "# Para hacer funciones\n",
    "class funciones:\n",
    "    #Se definen  mis funciones básicas\n",
    "    # A: Corresponde a la amplitud para las funciones coseno \n",
    "    def __init__(self, A, saludo = \"Hola\"):\n",
    "        self.A = A\n",
    "        self.saludo = saludo\n",
    "        \n",
    "    def g(self,x):\n",
    "        return self.A*np.cos(x), self.A*np.sin(x) #Self es para los atributos de la clase\n",
    "    \n",
    "    def f(self): #Significa que es parte de la clase funciones, no se necesita argumento para llamarla\n",
    "        return self.saludo\n",
    "    \n",
    "    def f2(self,x):\n",
    "        if x%2 == 0:\n",
    "            return x*x\n",
    "        else:\n",
    "            return np.log(x)"
   ]
  },
  {
   "cell_type": "code",
   "execution_count": 49,
   "metadata": {},
   "outputs": [],
   "source": [
    "x = funciones(3, \"Hello\")"
   ]
  },
  {
   "cell_type": "code",
   "execution_count": 58,
   "metadata": {},
   "outputs": [
    {
     "data": {
      "text/plain": [
       "\u001b[0;31mInit signature:\u001b[0m \u001b[0mfunciones\u001b[0m\u001b[0;34m(\u001b[0m\u001b[0mA\u001b[0m\u001b[0;34m,\u001b[0m \u001b[0msaludo\u001b[0m\u001b[0;34m=\u001b[0m\u001b[0;34m'Hola'\u001b[0m\u001b[0;34m)\u001b[0m\u001b[0;34m\u001b[0m\u001b[0;34m\u001b[0m\u001b[0m\n",
       "\u001b[0;31mDocstring:\u001b[0m      <no docstring>\n",
       "\u001b[0;31mType:\u001b[0m           type\n",
       "\u001b[0;31mSubclasses:\u001b[0m     \n"
      ]
     },
     "metadata": {},
     "output_type": "display_data"
    }
   ],
   "source": [
    "funciones?"
   ]
  },
  {
   "cell_type": "code",
   "execution_count": 50,
   "metadata": {},
   "outputs": [
    {
     "data": {
      "text/plain": [
       "'Hello'"
      ]
     },
     "execution_count": 50,
     "metadata": {},
     "output_type": "execute_result"
    }
   ],
   "source": [
    "x.f()"
   ]
  },
  {
   "cell_type": "code",
   "execution_count": 51,
   "metadata": {},
   "outputs": [],
   "source": [
    "b = x.g(x2)"
   ]
  },
  {
   "cell_type": "code",
   "execution_count": 52,
   "metadata": {},
   "outputs": [],
   "source": [
    "f22 = np.vectorize(x.f2)"
   ]
  },
  {
   "cell_type": "code",
   "execution_count": 53,
   "metadata": {},
   "outputs": [
    {
     "name": "stderr",
     "output_type": "stream",
     "text": [
      "/home/anita/Documents/Analisis_Datos/miniconda3/envs/data_main/lib/python3.7/site-packages/ipykernel_launcher.py:17: RuntimeWarning: invalid value encountered in log\n"
     ]
    }
   ],
   "source": [
    "a = f22(x2)"
   ]
  },
  {
   "cell_type": "code",
   "execution_count": 54,
   "metadata": {},
   "outputs": [
    {
     "data": {
      "text/plain": [
       "array([-6.28318531, -6.02672876, -5.77027222, -5.51381568, -5.25735913,\n",
       "       -5.00090259, -4.74444605, -4.48798951, -4.23153296, -3.97507642,\n",
       "       -3.71861988, -3.46216333, -3.20570679, -2.94925025, -2.6927937 ,\n",
       "       -2.43633716, -2.17988062, -1.92342407, -1.66696753, -1.41051099,\n",
       "       -1.15405444, -0.8975979 , -0.64114136, -0.38468481, -0.12822827,\n",
       "        0.12822827,  0.38468481,  0.64114136,  0.8975979 ,  1.15405444,\n",
       "        1.41051099,  1.66696753,  1.92342407,  2.17988062,  2.43633716,\n",
       "        2.6927937 ,  2.94925025,  3.20570679,  3.46216333,  3.71861988,\n",
       "        3.97507642,  4.23153296,  4.48798951,  4.74444605,  5.00090259,\n",
       "        5.25735913,  5.51381568,  5.77027222,  6.02672876,  6.28318531])"
      ]
     },
     "execution_count": 54,
     "metadata": {},
     "output_type": "execute_result"
    }
   ],
   "source": [
    "x2 #Tiene sentido porque x2 tiene valores menores a -1"
   ]
  },
  {
   "cell_type": "code",
   "execution_count": 55,
   "metadata": {},
   "outputs": [
    {
     "data": {
      "text/plain": [
       "array([        nan,         nan,         nan,         nan,         nan,\n",
       "               nan,         nan,         nan,         nan,         nan,\n",
       "               nan,         nan,         nan,         nan,         nan,\n",
       "               nan,         nan,         nan,         nan,         nan,\n",
       "               nan,         nan,         nan,         nan,         nan,\n",
       "       -2.05394323, -0.95533094, -0.44450532, -0.10803308,  0.14328135,\n",
       "        0.34395204,  0.51100613,  0.65410697,  0.77927011,  0.89049575,\n",
       "        0.99057921,  1.08155098,  1.16493259,  1.24189363,  1.3133526 ,\n",
       "        1.38004397,  1.44256433,  1.50140483,  1.55697468,  1.60961841,\n",
       "        1.65962884,  1.70725688,  1.75271926,  1.79620437,  1.83787707])"
      ]
     },
     "execution_count": 55,
     "metadata": {},
     "output_type": "execute_result"
    }
   ],
   "source": [
    "a"
   ]
  },
  {
   "cell_type": "code",
   "execution_count": 56,
   "metadata": {},
   "outputs": [
    {
     "data": {
      "text/plain": [
       "(array([        nan,         nan,         nan,         nan,         nan,\n",
       "                nan,         nan,         nan,         nan,         nan,\n",
       "                nan,         nan,         nan,         nan,         nan,\n",
       "                nan,         nan,         nan,         nan,         nan,\n",
       "                nan,         nan,         nan,         nan,         nan,\n",
       "        -2.05394323, -0.95533094, -0.44450532, -0.10803308,  0.14328135,\n",
       "         0.34395204,  0.51100613,  0.65410697,  0.77927011,  0.89049575,\n",
       "         0.99057921,  1.08155098,  1.16493259,  1.24189363,  1.3133526 ,\n",
       "         1.38004397,  1.44256433,  1.50140483,  1.55697468,  1.60961841,\n",
       "         1.65962884,  1.70725688,  1.75271926,  1.79620437,  1.83787707]),\n",
       " (array([ 3.        ,  2.90188459,  2.61395611,  2.15504805,  1.5551777 ,\n",
       "          0.85358276,  0.09615473, -0.6675628 , -1.38761487, -2.01690267,\n",
       "         -2.51426431, -2.84716724, -2.99383618, -2.94467747, -2.7029066 ,\n",
       "         -2.28433788, -1.71634998, -1.03609516, -0.28806908,  0.47879969,\n",
       "          1.21435003,  1.87046941,  2.40424087,  2.78075027,  2.97537004,\n",
       "          2.97537004,  2.78075027,  2.40424087,  1.87046941,  1.21435003,\n",
       "          0.47879969, -0.28806908, -1.03609516, -1.71634998, -2.28433788,\n",
       "         -2.7029066 , -2.94467747, -2.99383618, -2.84716724, -2.51426431,\n",
       "         -2.01690267, -1.38761487, -0.6675628 ,  0.09615473,  0.85358276,\n",
       "          1.5551777 ,  2.15504805,  2.61395611,  2.90188459,  3.        ]),\n",
       "  array([ 7.34788079e-16,  7.60963752e-01,  1.47215266e+00,  2.08704765e+00,\n",
       "          2.56542829e+00,  2.87600356e+00,  2.99845865e+00,  2.92478374e+00,\n",
       "          2.65979792e+00,  2.22083399e+00,  1.63660470e+00,  9.45324654e-01,\n",
       "          1.92210660e-01, -5.73475886e-01, -1.30165122e+00, -1.94468519e+00,\n",
       "         -2.46051676e+00, -2.81540527e+00, -2.98613734e+00, -2.96154535e+00,\n",
       "         -2.74323787e+00, -2.34549445e+00, -1.79433159e+00, -1.12580101e+00,\n",
       "         -3.83631485e-01,  3.83631485e-01,  1.12580101e+00,  1.79433159e+00,\n",
       "          2.34549445e+00,  2.74323787e+00,  2.96154535e+00,  2.98613734e+00,\n",
       "          2.81540527e+00,  2.46051676e+00,  1.94468519e+00,  1.30165122e+00,\n",
       "          5.73475886e-01, -1.92210660e-01, -9.45324654e-01, -1.63660470e+00,\n",
       "         -2.22083399e+00, -2.65979792e+00, -2.92478374e+00, -2.99845865e+00,\n",
       "         -2.87600356e+00, -2.56542829e+00, -2.08704765e+00, -1.47215266e+00,\n",
       "         -7.60963752e-01, -7.34788079e-16])))"
      ]
     },
     "execution_count": 56,
     "metadata": {},
     "output_type": "execute_result"
    }
   ],
   "source": [
    "a , b"
   ]
  },
  {
   "cell_type": "markdown",
   "metadata": {},
   "source": [
    "## Lectura de archivos y acceso a bases de datos"
   ]
  },
  {
   "cell_type": "code",
   "execution_count": 73,
   "metadata": {},
   "outputs": [],
   "source": [
    "#sunspots = np.loadtxt('sunspots.txt', unpack= True)\n",
    "# Tarea: crear un sólo arreglo de años y uno de manchas solares"
   ]
  },
  {
   "cell_type": "code",
   "execution_count": 84,
   "metadata": {},
   "outputs": [
    {
     "data": {
      "text/plain": [
       "[array([1701, 1702, 1703, 1704, 1705, 1706, 1707, 1708, 1709, 1710, 1711,\n",
       "        1712, 1713, 1714, 1715, 1716, 1717, 1718, 1719, 1720, 1721, 1722,\n",
       "        1723, 1724, 1725, 1726, 1727, 1728, 1729, 1730, 1731, 1732, 1733,\n",
       "        1734, 1735, 1736, 1737, 1738, 1739, 1740, 1741, 1742, 1743, 1744,\n",
       "        1745, 1746, 1747, 1748, 1749, 1750, 1751, 1752, 1753, 1754, 1755,\n",
       "        1756, 1757, 1758, 1759, 1760]),\n",
       " array([ 11. ,  16. ,  23. ,  36. ,  58. ,  29. ,  20. ,  10. ,   8. ,\n",
       "          3. ,   0. ,   0. ,   2. ,  11. ,  27. ,  47. ,  63. ,  60. ,\n",
       "         39. ,  28. ,  26. ,  22. ,  11. ,  21. ,  40. ,  78. , 122. ,\n",
       "        103. ,  73. ,  47. ,  35. ,  11. ,   5. ,  16. ,  34. ,  70. ,\n",
       "         81. , 111. , 101. ,  73. ,  40. ,  20. ,  16. ,   5. ,  11. ,\n",
       "         22. ,  40. ,  60. ,  80.9,  83.4,  47.7,  47.8,  30.7,  12.2,\n",
       "          9.6,  10.2,  32.4,  47.6,  54. ,  62.9])]"
      ]
     },
     "execution_count": 84,
     "metadata": {},
     "output_type": "execute_result"
    }
   ],
   "source": [
    "# Se puede hacer lo siguiente\n",
    "sunspots = np.loadtxt('sunspots.txt', dtype=[('anio',int),('Numero',float)], usecols = (0,1), unpack = True)\n",
    "#sunspots = np.loadtxt('sunspots.txt', usecols = (0,1)).T\n",
    "#sunspots = np.loadtxt('sunspots.txt', dtype=[('anio',int),('Numero',float)], skiprows = 4,usecols = (0,1), unpack = True)\n",
    "\n",
    "sunspots"
   ]
  },
  {
   "cell_type": "code",
   "execution_count": 83,
   "metadata": {},
   "outputs": [
    {
     "data": {
      "text/plain": [
       "array([1701, 1702, 1703, 1704, 1705, 1706, 1707, 1708, 1709, 1710, 1711,\n",
       "       1712, 1713, 1714, 1715, 1716, 1717, 1718, 1719, 1720, 1721, 1722,\n",
       "       1723, 1724, 1725, 1726, 1727, 1728, 1729, 1730, 1731, 1732, 1733,\n",
       "       1734, 1735, 1736, 1737, 1738, 1739, 1740, 1741, 1742, 1743, 1744,\n",
       "       1745, 1746, 1747, 1748, 1749, 1750, 1751, 1752, 1753, 1754, 1755,\n",
       "       1756, 1757, 1758, 1759, 1760])"
      ]
     },
     "execution_count": 83,
     "metadata": {},
     "output_type": "execute_result"
    }
   ],
   "source": [
    "sunspots[0]"
   ]
  },
  {
   "cell_type": "code",
   "execution_count": 70,
   "metadata": {},
   "outputs": [
    {
     "data": {
      "text/plain": [
       "array([1761., 1762., 1763., 1764., 1765., 1766., 1767., 1768., 1769.,\n",
       "       1770., 1771., 1772., 1773., 1774., 1775., 1776., 1777., 1778.,\n",
       "       1779., 1780., 1781., 1782., 1783., 1784., 1785., 1786., 1787.,\n",
       "       1788., 1789., 1790., 1791., 1792., 1793., 1794., 1795., 1796.,\n",
       "       1797., 1798., 1799., 1800., 1801., 1802., 1803., 1804., 1805.,\n",
       "       1806., 1807., 1808., 1809., 1810., 1811., 1812., 1813., 1814.,\n",
       "       1815., 1816., 1817., 1818., 1819., 1820.])"
      ]
     },
     "execution_count": 70,
     "metadata": {},
     "output_type": "execute_result"
    }
   ],
   "source": [
    "sunspots[2]"
   ]
  },
  {
   "cell_type": "code",
   "execution_count": 72,
   "metadata": {},
   "outputs": [
    {
     "data": {
      "text/plain": [
       "[<matplotlib.lines.Line2D at 0x7ff94ed02668>]"
      ]
     },
     "execution_count": 72,
     "metadata": {},
     "output_type": "execute_result"
    },
    {
     "data": {
      "image/png": "[encoded data removed]",
      "text/plain": [
       "<Figure size 432x288 with 1 Axes>"
      ]
     },
     "metadata": {
      "needs_background": "light"
     },
     "output_type": "display_data"
    }
   ],
   "source": [
    "plt.plot(sunspots[0], sunspots[1])\n",
    "plt.plot(sunspots[2], sunspots[3])"
   ]
  },
  {
   "cell_type": "code",
   "execution_count": 75,
   "metadata": {},
   "outputs": [
    {
     "data": {
      "text/plain": [
       "\u001b[0;31mSignature:\u001b[0m\n",
       "\u001b[0mnp\u001b[0m\u001b[0;34m.\u001b[0m\u001b[0mloadtxt\u001b[0m\u001b[0;34m(\u001b[0m\u001b[0;34m\u001b[0m\n",
       "\u001b[0;34m\u001b[0m    \u001b[0mfname\u001b[0m\u001b[0;34m,\u001b[0m\u001b[0;34m\u001b[0m\n",
       "\u001b[0;34m\u001b[0m    \u001b[0mdtype\u001b[0m\u001b[0;34m=\u001b[0m\u001b[0;34m<\u001b[0m\u001b[0;32mclass\u001b[0m \u001b[0;34m'float'\u001b[0m\u001b[0;34m>\u001b[0m\u001b[0;34m,\u001b[0m\u001b[0;34m\u001b[0m\n",
       "\u001b[0;34m\u001b[0m    \u001b[0mcomments\u001b[0m\u001b[0;34m=\u001b[0m\u001b[0;34m'#'\u001b[0m\u001b[0;34m,\u001b[0m\u001b[0;34m\u001b[0m\n",
       "\u001b[0;34m\u001b[0m    \u001b[0mdelimiter\u001b[0m\u001b[0;34m=\u001b[0m\u001b[0;32mNone\u001b[0m\u001b[0;34m,\u001b[0m\u001b[0;34m\u001b[0m\n",
       "\u001b[0;34m\u001b[0m    \u001b[0mconverters\u001b[0m\u001b[0;34m=\u001b[0m\u001b[0;32mNone\u001b[0m\u001b[0;34m,\u001b[0m\u001b[0;34m\u001b[0m\n",
       "\u001b[0;34m\u001b[0m    \u001b[0mskiprows\u001b[0m\u001b[0;34m=\u001b[0m\u001b[0;36m0\u001b[0m\u001b[0;34m,\u001b[0m\u001b[0;34m\u001b[0m\n",
       "\u001b[0;34m\u001b[0m    \u001b[0musecols\u001b[0m\u001b[0;34m=\u001b[0m\u001b[0;32mNone\u001b[0m\u001b[0;34m,\u001b[0m\u001b[0;34m\u001b[0m\n",
       "\u001b[0;34m\u001b[0m    \u001b[0munpack\u001b[0m\u001b[0;34m=\u001b[0m\u001b[0;32mFalse\u001b[0m\u001b[0;34m,\u001b[0m\u001b[0;34m\u001b[0m\n",
       "\u001b[0;34m\u001b[0m    \u001b[0mndmin\u001b[0m\u001b[0;34m=\u001b[0m\u001b[0;36m0\u001b[0m\u001b[0;34m,\u001b[0m\u001b[0;34m\u001b[0m\n",
       "\u001b[0;34m\u001b[0m    \u001b[0mencoding\u001b[0m\u001b[0;34m=\u001b[0m\u001b[0;34m'bytes'\u001b[0m\u001b[0;34m,\u001b[0m\u001b[0;34m\u001b[0m\n",
       "\u001b[0;34m\u001b[0m    \u001b[0mmax_rows\u001b[0m\u001b[0;34m=\u001b[0m\u001b[0;32mNone\u001b[0m\u001b[0;34m,\u001b[0m\u001b[0;34m\u001b[0m\n",
       "\u001b[0;34m\u001b[0m\u001b[0;34m)\u001b[0m\u001b[0;34m\u001b[0m\u001b[0;34m\u001b[0m\u001b[0m\n",
       "\u001b[0;31mDocstring:\u001b[0m\n",
       "Load data from a text file.\n",
       "\n",
       "Each row in the text file must have the same number of values.\n",
       "\n",
       "Parameters\n",
       "----------\n",
       "fname : file, str, or pathlib.Path\n",
       "    File, filename, or generator to read.  If the filename extension is\n",
       "    ``.gz`` or ``.bz2``, the file is first decompressed. Note that\n",
       "    generators should return byte strings for Python 3k.\n",
       "dtype : data-type, optional\n",
       "    Data-type of the resulting array; default: float.  If this is a\n",
       "    structured data-type, the resulting array will be 1-dimensional, and\n",
       "    each row will be interpreted as an element of the array.  In this\n",
       "    case, the number of columns used must match the number of fields in\n",
       "    the data-type.\n",
       "comments : str or sequence of str, optional\n",
       "    The characters or list of characters used to indicate the start of a\n",
       "    comment. None implies no comments. For backwards compatibility, byte\n",
       "    strings will be decoded as 'latin1'. The default is '#'.\n",
       "delimiter : str, optional\n",
       "    The string used to separate values. For backwards compatibility, byte\n",
       "    strings will be decoded as 'latin1'. The default is whitespace.\n",
       "converters : dict, optional\n",
       "    A dictionary mapping column number to a function that will parse the\n",
       "    column string into the desired value.  E.g., if column 0 is a date\n",
       "    string: ``converters = {0: datestr2num}``.  Converters can also be\n",
       "    used to provide a default value for missing data (but see also\n",
       "    `genfromtxt`): ``converters = {3: lambda s: float(s.strip() or 0)}``.\n",
       "    Default: None.\n",
       "skiprows : int, optional\n",
       "    Skip the first `skiprows` lines; default: 0.\n",
       "usecols : int or sequence, optional\n",
       "    Which columns to read, with 0 being the first. For example,\n",
       "    ``usecols = (1,4,5)`` will extract the 2nd, 5th and 6th columns.\n",
       "    The default, None, results in all columns being read.\n",
       "\n",
       "    .. versionchanged:: 1.11.0\n",
       "        When a single column has to be read it is possible to use\n",
       "        an integer instead of a tuple. E.g ``usecols = 3`` reads the\n",
       "        fourth column the same way as ``usecols = (3,)`` would.\n",
       "unpack : bool, optional\n",
       "    If True, the returned array is transposed, so that arguments may be\n",
       "    unpacked using ``x, y, z = loadtxt(...)``.  When used with a structured\n",
       "    data-type, arrays are returned for each field.  Default is False.\n",
       "ndmin : int, optional\n",
       "    The returned array will have at least `ndmin` dimensions.\n",
       "    Otherwise mono-dimensional axes will be squeezed.\n",
       "    Legal values: 0 (default), 1 or 2.\n",
       "\n",
       "    .. versionadded:: 1.6.0\n",
       "encoding : str, optional\n",
       "    Encoding used to decode the inputfile. Does not apply to input streams.\n",
       "    The special value 'bytes' enables backward compatibility workarounds\n",
       "    that ensures you receive byte arrays as results if possible and passes\n",
       "    'latin1' encoded strings to converters. Override this value to receive\n",
       "    unicode arrays and pass strings as input to converters.  If set to None\n",
       "    the system default is used. The default value is 'bytes'.\n",
       "\n",
       "    .. versionadded:: 1.14.0\n",
       "max_rows : int, optional\n",
       "    Read `max_rows` lines of content after `skiprows` lines. The default\n",
       "    is to read all the lines.\n",
       "\n",
       "    .. versionadded:: 1.16.0\n",
       "\n",
       "Returns\n",
       "-------\n",
       "out : ndarray\n",
       "    Data read from the text file.\n",
       "\n",
       "See Also\n",
       "--------\n",
       "load, fromstring, fromregex\n",
       "genfromtxt : Load data with missing values handled as specified.\n",
       "scipy.io.loadmat : reads MATLAB data files\n",
       "\n",
       "Notes\n",
       "-----\n",
       "This function aims to be a fast reader for simply formatted files.  The\n",
       "`genfromtxt` function provides more sophisticated handling of, e.g.,\n",
       "lines with missing values.\n",
       "\n",
       ".. versionadded:: 1.10.0\n",
       "\n",
       "The strings produced by the Python float.hex method can be used as\n",
       "input for floats.\n",
       "\n",
       "Examples\n",
       "--------\n",
       ">>> from io import StringIO   # StringIO behaves like a file object\n",
       ">>> c = StringIO(u\"0 1\\n2 3\")\n",
       ">>> np.loadtxt(c)\n",
       "array([[ 0.,  1.],\n",
       "       [ 2.,  3.]])\n",
       "\n",
       ">>> d = StringIO(u\"M 21 72\\nF 35 58\")\n",
       ">>> np.loadtxt(d, dtype={'names': ('gender', 'age', 'weight'),\n",
       "...                      'formats': ('S1', 'i4', 'f4')})\n",
       "array([('M', 21, 72.0), ('F', 35, 58.0)],\n",
       "      dtype=[('gender', '|S1'), ('age', '<i4'), ('weight', '<f4')])\n",
       "\n",
       ">>> c = StringIO(u\"1,0,2\\n3,0,4\")\n",
       ">>> x, y = np.loadtxt(c, delimiter=',', usecols=(0, 2), unpack=True)\n",
       ">>> x\n",
       "array([ 1.,  3.])\n",
       ">>> y\n",
       "array([ 2.,  4.])\n",
       "\u001b[0;31mFile:\u001b[0m      ~/Documents/Analisis_Datos/miniconda3/envs/data_main/lib/python3.7/site-packages/numpy/lib/npyio.py\n",
       "\u001b[0;31mType:\u001b[0m      function\n"
      ]
     },
     "metadata": {},
     "output_type": "display_data"
    }
   ],
   "source": [
    "np.loadtxt?"
   ]
  },
  {
   "cell_type": "code",
   "execution_count": 85,
   "metadata": {},
   "outputs": [
    {
     "data": {
      "text/plain": [
       "\u001b[0;31mSignature:\u001b[0m\n",
       "\u001b[0mnp\u001b[0m\u001b[0;34m.\u001b[0m\u001b[0mgenfromtxt\u001b[0m\u001b[0;34m(\u001b[0m\u001b[0;34m\u001b[0m\n",
       "\u001b[0;34m\u001b[0m    \u001b[0mfname\u001b[0m\u001b[0;34m,\u001b[0m\u001b[0;34m\u001b[0m\n",
       "\u001b[0;34m\u001b[0m    \u001b[0mdtype\u001b[0m\u001b[0;34m=\u001b[0m\u001b[0;34m<\u001b[0m\u001b[0;32mclass\u001b[0m \u001b[0;34m'float'\u001b[0m\u001b[0;34m>\u001b[0m\u001b[0;34m,\u001b[0m\u001b[0;34m\u001b[0m\n",
       "\u001b[0;34m\u001b[0m    \u001b[0mcomments\u001b[0m\u001b[0;34m=\u001b[0m\u001b[0;34m'#'\u001b[0m\u001b[0;34m,\u001b[0m\u001b[0;34m\u001b[0m\n",
       "\u001b[0;34m\u001b[0m    \u001b[0mdelimiter\u001b[0m\u001b[0;34m=\u001b[0m\u001b[0;32mNone\u001b[0m\u001b[0;34m,\u001b[0m\u001b[0;34m\u001b[0m\n",
       "\u001b[0;34m\u001b[0m    \u001b[0mskip_header\u001b[0m\u001b[0;34m=\u001b[0m\u001b[0;36m0\u001b[0m\u001b[0;34m,\u001b[0m\u001b[0;34m\u001b[0m\n",
       "\u001b[0;34m\u001b[0m    \u001b[0mskip_footer\u001b[0m\u001b[0;34m=\u001b[0m\u001b[0;36m0\u001b[0m\u001b[0;34m,\u001b[0m\u001b[0;34m\u001b[0m\n",
       "\u001b[0;34m\u001b[0m    \u001b[0mconverters\u001b[0m\u001b[0;34m=\u001b[0m\u001b[0;32mNone\u001b[0m\u001b[0;34m,\u001b[0m\u001b[0;34m\u001b[0m\n",
       "\u001b[0;34m\u001b[0m    \u001b[0mmissing_values\u001b[0m\u001b[0;34m=\u001b[0m\u001b[0;32mNone\u001b[0m\u001b[0;34m,\u001b[0m\u001b[0;34m\u001b[0m\n",
       "\u001b[0;34m\u001b[0m    \u001b[0mfilling_values\u001b[0m\u001b[0;34m=\u001b[0m\u001b[0;32mNone\u001b[0m\u001b[0;34m,\u001b[0m\u001b[0;34m\u001b[0m\n",
       "\u001b[0;34m\u001b[0m    \u001b[0musecols\u001b[0m\u001b[0;34m=\u001b[0m\u001b[0;32mNone\u001b[0m\u001b[0;34m,\u001b[0m\u001b[0;34m\u001b[0m\n",
       "\u001b[0;34m\u001b[0m    \u001b[0mnames\u001b[0m\u001b[0;34m=\u001b[0m\u001b[0;32mNone\u001b[0m\u001b[0;34m,\u001b[0m\u001b[0;34m\u001b[0m\n",
       "\u001b[0;34m\u001b[0m    \u001b[0mexcludelist\u001b[0m\u001b[0;34m=\u001b[0m\u001b[0;32mNone\u001b[0m\u001b[0;34m,\u001b[0m\u001b[0;34m\u001b[0m\n",
       "\u001b[0;34m\u001b[0m    \u001b[0mdeletechars\u001b[0m\u001b[0;34m=\u001b[0m\u001b[0;32mNone\u001b[0m\u001b[0;34m,\u001b[0m\u001b[0;34m\u001b[0m\n",
       "\u001b[0;34m\u001b[0m    \u001b[0mreplace_space\u001b[0m\u001b[0;34m=\u001b[0m\u001b[0;34m'_'\u001b[0m\u001b[0;34m,\u001b[0m\u001b[0;34m\u001b[0m\n",
       "\u001b[0;34m\u001b[0m    \u001b[0mautostrip\u001b[0m\u001b[0;34m=\u001b[0m\u001b[0;32mFalse\u001b[0m\u001b[0;34m,\u001b[0m\u001b[0;34m\u001b[0m\n",
       "\u001b[0;34m\u001b[0m    \u001b[0mcase_sensitive\u001b[0m\u001b[0;34m=\u001b[0m\u001b[0;32mTrue\u001b[0m\u001b[0;34m,\u001b[0m\u001b[0;34m\u001b[0m\n",
       "\u001b[0;34m\u001b[0m    \u001b[0mdefaultfmt\u001b[0m\u001b[0;34m=\u001b[0m\u001b[0;34m'f%i'\u001b[0m\u001b[0;34m,\u001b[0m\u001b[0;34m\u001b[0m\n",
       "\u001b[0;34m\u001b[0m    \u001b[0munpack\u001b[0m\u001b[0;34m=\u001b[0m\u001b[0;32mNone\u001b[0m\u001b[0;34m,\u001b[0m\u001b[0;34m\u001b[0m\n",
       "\u001b[0;34m\u001b[0m    \u001b[0musemask\u001b[0m\u001b[0;34m=\u001b[0m\u001b[0;32mFalse\u001b[0m\u001b[0;34m,\u001b[0m\u001b[0;34m\u001b[0m\n",
       "\u001b[0;34m\u001b[0m    \u001b[0mloose\u001b[0m\u001b[0;34m=\u001b[0m\u001b[0;32mTrue\u001b[0m\u001b[0;34m,\u001b[0m\u001b[0;34m\u001b[0m\n",
       "\u001b[0;34m\u001b[0m    \u001b[0minvalid_raise\u001b[0m\u001b[0;34m=\u001b[0m\u001b[0;32mTrue\u001b[0m\u001b[0;34m,\u001b[0m\u001b[0;34m\u001b[0m\n",
       "\u001b[0;34m\u001b[0m    \u001b[0mmax_rows\u001b[0m\u001b[0;34m=\u001b[0m\u001b[0;32mNone\u001b[0m\u001b[0;34m,\u001b[0m\u001b[0;34m\u001b[0m\n",
       "\u001b[0;34m\u001b[0m    \u001b[0mencoding\u001b[0m\u001b[0;34m=\u001b[0m\u001b[0;34m'bytes'\u001b[0m\u001b[0;34m,\u001b[0m\u001b[0;34m\u001b[0m\n",
       "\u001b[0;34m\u001b[0m\u001b[0;34m)\u001b[0m\u001b[0;34m\u001b[0m\u001b[0;34m\u001b[0m\u001b[0m\n",
       "\u001b[0;31mDocstring:\u001b[0m\n",
       "Load data from a text file, with missing values handled as specified.\n",
       "\n",
       "Each line past the first `skip_header` lines is split at the `delimiter`\n",
       "character, and characters following the `comments` character are discarded.\n",
       "\n",
       "Parameters\n",
       "----------\n",
       "fname : file, str, pathlib.Path, list of str, generator\n",
       "    File, filename, list, or generator to read.  If the filename\n",
       "    extension is `.gz` or `.bz2`, the file is first decompressed. Note\n",
       "    that generators must return byte strings in Python 3k.  The strings\n",
       "    in a list or produced by a generator are treated as lines.\n",
       "dtype : dtype, optional\n",
       "    Data type of the resulting array.\n",
       "    If None, the dtypes will be determined by the contents of each\n",
       "    column, individually.\n",
       "comments : str, optional\n",
       "    The character used to indicate the start of a comment.\n",
       "    All the characters occurring on a line after a comment are discarded\n",
       "delimiter : str, int, or sequence, optional\n",
       "    The string used to separate values.  By default, any consecutive\n",
       "    whitespaces act as delimiter.  An integer or sequence of integers\n",
       "    can also be provided as width(s) of each field.\n",
       "skiprows : int, optional\n",
       "    `skiprows` was removed in numpy 1.10. Please use `skip_header` instead.\n",
       "skip_header : int, optional\n",
       "    The number of lines to skip at the beginning of the file.\n",
       "skip_footer : int, optional\n",
       "    The number of lines to skip at the end of the file.\n",
       "converters : variable, optional\n",
       "    The set of functions that convert the data of a column to a value.\n",
       "    The converters can also be used to provide a default value\n",
       "    for missing data: ``converters = {3: lambda s: float(s or 0)}``.\n",
       "missing : variable, optional\n",
       "    `missing` was removed in numpy 1.10. Please use `missing_values`\n",
       "    instead.\n",
       "missing_values : variable, optional\n",
       "    The set of strings corresponding to missing data.\n",
       "filling_values : variable, optional\n",
       "    The set of values to be used as default when the data are missing.\n",
       "usecols : sequence, optional\n",
       "    Which columns to read, with 0 being the first.  For example,\n",
       "    ``usecols = (1, 4, 5)`` will extract the 2nd, 5th and 6th columns.\n",
       "names : {None, True, str, sequence}, optional\n",
       "    If `names` is True, the field names are read from the first line after\n",
       "    the first `skip_header` lines.  This line can optionally be proceeded\n",
       "    by a comment delimiter. If `names` is a sequence or a single-string of\n",
       "    comma-separated names, the names will be used to define the field names\n",
       "    in a structured dtype. If `names` is None, the names of the dtype\n",
       "    fields will be used, if any.\n",
       "excludelist : sequence, optional\n",
       "    A list of names to exclude. This list is appended to the default list\n",
       "    ['return','file','print']. Excluded names are appended an underscore:\n",
       "    for example, `file` would become `file_`.\n",
       "deletechars : str, optional\n",
       "    A string combining invalid characters that must be deleted from the\n",
       "    names.\n",
       "defaultfmt : str, optional\n",
       "    A format used to define default field names, such as \"f%i\" or \"f_%02i\".\n",
       "autostrip : bool, optional\n",
       "    Whether to automatically strip white spaces from the variables.\n",
       "replace_space : char, optional\n",
       "    Character(s) used in replacement of white spaces in the variables\n",
       "    names. By default, use a '_'.\n",
       "case_sensitive : {True, False, 'upper', 'lower'}, optional\n",
       "    If True, field names are case sensitive.\n",
       "    If False or 'upper', field names are converted to upper case.\n",
       "    If 'lower', field names are converted to lower case.\n",
       "unpack : bool, optional\n",
       "    If True, the returned array is transposed, so that arguments may be\n",
       "    unpacked using ``x, y, z = loadtxt(...)``\n",
       "usemask : bool, optional\n",
       "    If True, return a masked array.\n",
       "    If False, return a regular array.\n",
       "loose : bool, optional\n",
       "    If True, do not raise errors for invalid values.\n",
       "invalid_raise : bool, optional\n",
       "    If True, an exception is raised if an inconsistency is detected in the\n",
       "    number of columns.\n",
       "    If False, a warning is emitted and the offending lines are skipped.\n",
       "max_rows : int,  optional\n",
       "    The maximum number of rows to read. Must not be used with skip_footer\n",
       "    at the same time.  If given, the value must be at least 1. Default is\n",
       "    to read the entire file.\n",
       "\n",
       "    .. versionadded:: 1.10.0\n",
       "encoding : str, optional\n",
       "    Encoding used to decode the inputfile. Does not apply when `fname` is\n",
       "    a file object.  The special value 'bytes' enables backward compatibility\n",
       "    workarounds that ensure that you receive byte arrays when possible\n",
       "    and passes latin1 encoded strings to converters. Override this value to\n",
       "    receive unicode arrays and pass strings as input to converters.  If set\n",
       "    to None the system default is used. The default value is 'bytes'.\n",
       "\n",
       "    .. versionadded:: 1.14.0\n",
       "\n",
       "Returns\n",
       "-------\n",
       "out : ndarray\n",
       "    Data read from the text file. If `usemask` is True, this is a\n",
       "    masked array.\n",
       "\n",
       "See Also\n",
       "--------\n",
       "numpy.loadtxt : equivalent function when no data is missing.\n",
       "\n",
       "Notes\n",
       "-----\n",
       "* When spaces are used as delimiters, or when no delimiter has been given\n",
       "  as input, there should not be any missing data between two fields.\n",
       "* When the variables are named (either by a flexible dtype or with `names`,\n",
       "  there must not be any header in the file (else a ValueError\n",
       "  exception is raised).\n",
       "* Individual values are not stripped of spaces by default.\n",
       "  When using a custom converter, make sure the function does remove spaces.\n",
       "\n",
       "References\n",
       "----------\n",
       ".. [1] NumPy User Guide, section `I/O with NumPy\n",
       "       <https://docs.scipy.org/doc/numpy/user/basics.io.genfromtxt.html>`_.\n",
       "\n",
       "Examples\n",
       "---------\n",
       ">>> from io import StringIO\n",
       ">>> import numpy as np\n",
       "\n",
       "Comma delimited file with mixed dtype\n",
       "\n",
       ">>> s = StringIO(u\"1,1.3,abcde\")\n",
       ">>> data = np.genfromtxt(s, dtype=[('myint','i8'),('myfloat','f8'),\n",
       "... ('mystring','S5')], delimiter=\",\")\n",
       ">>> data\n",
       "array((1, 1.3, 'abcde'),\n",
       "      dtype=[('myint', '<i8'), ('myfloat', '<f8'), ('mystring', '|S5')])\n",
       "\n",
       "Using dtype = None\n",
       "\n",
       ">>> s.seek(0) # needed for StringIO example only\n",
       ">>> data = np.genfromtxt(s, dtype=None,\n",
       "... names = ['myint','myfloat','mystring'], delimiter=\",\")\n",
       ">>> data\n",
       "array((1, 1.3, 'abcde'),\n",
       "      dtype=[('myint', '<i8'), ('myfloat', '<f8'), ('mystring', '|S5')])\n",
       "\n",
       "Specifying dtype and names\n",
       "\n",
       ">>> s.seek(0)\n",
       ">>> data = np.genfromtxt(s, dtype=\"i8,f8,S5\",\n",
       "... names=['myint','myfloat','mystring'], delimiter=\",\")\n",
       ">>> data\n",
       "array((1, 1.3, 'abcde'),\n",
       "      dtype=[('myint', '<i8'), ('myfloat', '<f8'), ('mystring', '|S5')])\n",
       "\n",
       "An example with fixed-width columns\n",
       "\n",
       ">>> s = StringIO(u\"11.3abcde\")\n",
       ">>> data = np.genfromtxt(s, dtype=None, names=['intvar','fltvar','strvar'],\n",
       "...     delimiter=[1,3,5])\n",
       ">>> data\n",
       "array((1, 1.3, 'abcde'),\n",
       "      dtype=[('intvar', '<i8'), ('fltvar', '<f8'), ('strvar', '|S5')])\n",
       "\u001b[0;31mFile:\u001b[0m      ~/Documents/Analisis_Datos/miniconda3/envs/data_main/lib/python3.7/site-packages/numpy/lib/npyio.py\n",
       "\u001b[0;31mType:\u001b[0m      function\n"
      ]
     },
     "metadata": {},
     "output_type": "display_data"
    }
   ],
   "source": [
    "np.genfromtxt?"
   ]
  },
  {
   "cell_type": "code",
   "execution_count": null,
   "metadata": {},
   "outputs": [],
   "source": []
  },
  {
   "cell_type": "code",
   "execution_count": null,
   "metadata": {},
   "outputs": [],
   "source": []
  }
 ],
 "metadata": {
  "kernelspec": {
   "display_name": "Python 3",
   "language": "python",
   "name": "python3"
  },
  "language_info": {
   "codemirror_mode": {
    "name": "ipython",
    "version": 3
   },
   "file_extension": ".py",
   "mimetype": "text/x-python",
   "name": "python",
   "nbconvert_exporter": "python",
   "pygments_lexer": "ipython3",
   "version": "3.7.3"
  }
 },
 "nbformat": 4,
 "nbformat_minor": 4
}
