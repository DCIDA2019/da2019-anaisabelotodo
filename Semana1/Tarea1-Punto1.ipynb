{
 "cells": [
  {
   "cell_type": "markdown",
   "metadata": {},
   "source": [
    "## Tarea 1 \n",
    "### Temas selectos de física (Análisis de Datos).\n",
    "### Agosto 10 2019 \n",
    "### Ana Isabel Moreno Hernández\n"
   ]
  },
  {
   "cell_type": "markdown",
   "metadata": {},
   "source": [
    "# Capítulo 1: IPython: Beyond Normal Python"
   ]
  },
  {
   "cell_type": "markdown",
   "metadata": {},
   "source": [
    "- Help and documentation in IPython"
   ]
  },
  {
   "cell_type": "code",
   "execution_count": 1,
   "metadata": {},
   "outputs": [
    {
     "name": "stdout",
     "output_type": "stream",
     "text": [
      "Help on built-in function len in module builtins:\n",
      "\n",
      "len(obj, /)\n",
      "    Return the number of items in a container.\n",
      "\n"
     ]
    }
   ],
   "source": [
    "## Para saber cómo funciona una función de python característica\n",
    "## Utilizamos help()\n",
    "help(len)"
   ]
  },
  {
   "cell_type": "code",
   "execution_count": 2,
   "metadata": {},
   "outputs": [
    {
     "data": {
      "text/plain": [
       "\u001b[0;31mSignature:\u001b[0m \u001b[0mlen\u001b[0m\u001b[0;34m(\u001b[0m\u001b[0mobj\u001b[0m\u001b[0;34m,\u001b[0m \u001b[0;34m/\u001b[0m\u001b[0;34m)\u001b[0m\u001b[0;34m\u001b[0m\u001b[0;34m\u001b[0m\u001b[0m\n",
       "\u001b[0;31mDocstring:\u001b[0m Return the number of items in a container.\n",
       "\u001b[0;31mType:\u001b[0m      builtin_function_or_method\n"
      ]
     },
     "metadata": {},
     "output_type": "display_data"
    }
   ],
   "source": [
    "## Para obtener otra información relevante usamos ? después de la función\n",
    "len?"
   ]
  },
  {
   "cell_type": "code",
   "execution_count": 3,
   "metadata": {},
   "outputs": [
    {
     "data": {
      "text/plain": [
       "\u001b[0;31mType:\u001b[0m        list\n",
       "\u001b[0;31mString form:\u001b[0m [0, 1, 2]\n",
       "\u001b[0;31mLength:\u001b[0m      3\n",
       "\u001b[0;31mDocstring:\u001b[0m  \n",
       "Built-in mutable sequence.\n",
       "\n",
       "If no argument is given, the constructor creates a new empty list.\n",
       "The argument must be an iterable if specified.\n"
      ]
     },
     "metadata": {},
     "output_type": "display_data"
    }
   ],
   "source": [
    "## Otros ejemplos\n",
    "S = [0, 1, 2]\n",
    "S?"
   ]
  },
  {
   "cell_type": "code",
   "execution_count": 4,
   "metadata": {},
   "outputs": [
    {
     "data": {
      "text/plain": [
       "\u001b[0;31mSignature:\u001b[0m \u001b[0mlinea\u001b[0m\u001b[0;34m(\u001b[0m\u001b[0mx\u001b[0m\u001b[0;34m)\u001b[0m\u001b[0;34m\u001b[0m\u001b[0;34m\u001b[0m\u001b[0m\n",
       "\u001b[0;31mDocstring:\u001b[0m <no docstring>\n",
       "\u001b[0;31mFile:\u001b[0m      ~/Documents/Analisis_Datos/da2019-anaisabelotodo/Semana1/<ipython-input-4-00d28c24d697>\n",
       "\u001b[0;31mType:\u001b[0m      function\n"
      ]
     },
     "metadata": {},
     "output_type": "display_data"
    }
   ],
   "source": [
    "def linea(x): \n",
    "    x-2\n",
    "    return x\n",
    "\n",
    "\n",
    "linea?"
   ]
  },
  {
   "cell_type": "code",
   "execution_count": 5,
   "metadata": {},
   "outputs": [
    {
     "data": {
      "text/plain": [
       "\u001b[0;31mSignature:\u001b[0m \u001b[0mlinea\u001b[0m\u001b[0;34m(\u001b[0m\u001b[0mx\u001b[0m\u001b[0;34m)\u001b[0m\u001b[0;34m\u001b[0m\u001b[0;34m\u001b[0m\u001b[0m\n",
       "\u001b[0;31mDocstring:\u001b[0m <no docstring>\n",
       "\u001b[0;31mSource:\u001b[0m   \n",
       "\u001b[0;32mdef\u001b[0m \u001b[0mlinea\u001b[0m\u001b[0;34m(\u001b[0m\u001b[0mx\u001b[0m\u001b[0;34m)\u001b[0m\u001b[0;34m:\u001b[0m \u001b[0;34m\u001b[0m\n",
       "\u001b[0;34m\u001b[0m    \u001b[0mx\u001b[0m\u001b[0;34m-\u001b[0m\u001b[0;36m2\u001b[0m\u001b[0;34m\u001b[0m\n",
       "\u001b[0;34m\u001b[0m    \u001b[0;32mreturn\u001b[0m \u001b[0mx\u001b[0m\u001b[0;34m\u001b[0m\u001b[0;34m\u001b[0m\u001b[0m\n",
       "\u001b[0;31mFile:\u001b[0m      ~/Documents/Analisis_Datos/da2019-anaisabelotodo/Semana1/<ipython-input-4-00d28c24d697>\n",
       "\u001b[0;31mType:\u001b[0m      function\n"
      ]
     },
     "metadata": {},
     "output_type": "display_data"
    }
   ],
   "source": [
    "## Si la anterior función está en varias lineas anteriores, podemos ver la definición \n",
    "## utilizando ?? después del nombre de la función para ver sus argumentos, etc. \n",
    "linea??"
   ]
  },
  {
   "cell_type": "code",
   "execution_count": 6,
   "metadata": {},
   "outputs": [
    {
     "data": {
      "text/plain": [
       "\u001b[0;31mSignature:\u001b[0m \u001b[0mlen\u001b[0m\u001b[0;34m(\u001b[0m\u001b[0mobj\u001b[0m\u001b[0;34m,\u001b[0m \u001b[0;34m/\u001b[0m\u001b[0;34m)\u001b[0m\u001b[0;34m\u001b[0m\u001b[0;34m\u001b[0m\u001b[0m\n",
       "\u001b[0;31mDocstring:\u001b[0m Return the number of items in a container.\n",
       "\u001b[0;31mType:\u001b[0m      builtin_function_or_method\n"
      ]
     },
     "metadata": {},
     "output_type": "display_data"
    }
   ],
   "source": [
    "## En otros casos ?? hace lo mismo que ?\n",
    "len??"
   ]
  },
  {
   "cell_type": "markdown",
   "metadata": {},
   "source": [
    "- Keyboard Shortcuts in the IPython Shell"
   ]
  },
  {
   "cell_type": "markdown",
   "metadata": {},
   "source": [
    "Son atajos en IPython, tales como ir al inicio de una línea o al final, incluso borrar caracteres en específico de una línea de comando."
   ]
  },
  {
   "cell_type": "markdown",
   "metadata": {},
   "source": [
    "- IPython Magic Commands\n"
   ]
  },
  {
   "cell_type": "code",
   "execution_count": 7,
   "metadata": {},
   "outputs": [],
   "source": [
    "## Para copiar y pegar código sin obtener errores al compilar se usa %paste\n",
    "## Sólo es necesario cuando se pega en terminal"
   ]
  },
  {
   "cell_type": "code",
   "execution_count": 8,
   "metadata": {},
   "outputs": [
    {
     "data": {
      "text/plain": [
       "<Figure size 640x480 with 1 Axes>"
      ]
     },
     "metadata": {},
     "output_type": "display_data"
    }
   ],
   "source": [
    "## Para correr una función definida en otro script\n",
    "%run test.py"
   ]
  },
  {
   "cell_type": "code",
   "execution_count": 9,
   "metadata": {},
   "outputs": [
    {
     "name": "stdout",
     "output_type": "stream",
     "text": [
      "527 µs ± 15.2 µs per loop (mean ± std. dev. of 7 runs, 1000 loops each)\n"
     ]
    }
   ],
   "source": [
    "## Para determinar el tiempo de ejecución de una línea de código\n",
    "%timeit L = [n ** 2 for n in range(1000)]"
   ]
  },
  {
   "cell_type": "markdown",
   "metadata": {},
   "source": [
    "- Input and Output History\n"
   ]
  },
  {
   "cell_type": "code",
   "execution_count": 10,
   "metadata": {},
   "outputs": [
    {
     "data": {
      "text/plain": [
       "1.633123935319537e+16"
      ]
     },
     "execution_count": 10,
     "metadata": {},
     "output_type": "execute_result"
    }
   ],
   "source": [
    "## Para utilizar funciones de algunas bibliotecas, las importamos\n",
    "import math\n",
    "\n",
    "math.tan(math.pi/2)"
   ]
  },
  {
   "cell_type": "code",
   "execution_count": 11,
   "metadata": {},
   "outputs": [
    {
     "name": "stdout",
     "output_type": "stream",
     "text": [
      "['', '## Para saber cómo funciona una función de python característica\\n## Utilizamos help()\\nhelp(len)', \"## Para obtener otra información relevante usamos ? después de la función\\nget_ipython().run_line_magic('pinfo', 'len')\", \"## Otros ejemplos\\nS = [0, 1, 2]\\nget_ipython().run_line_magic('pinfo', 'S')\", \"def linea(x): \\n    x-2\\n    return x\\n\\n\\nget_ipython().run_line_magic('pinfo', 'linea')\", \"## Si la anterior función está en varias lineas anteriores, podemos ver la definición \\n## utilizando ?? después del nombre de la función para ver sus argumentos, etc. \\nget_ipython().run_line_magic('pinfo2', 'linea')\", \"## En otros casos ?? hace lo mismo que ?\\nget_ipython().run_line_magic('pinfo2', 'len')\", '## Para copiar y pegar código sin obtener errores al compilar se usa %paste\\n## Sólo es necesario cuando se pega en terminal', \"## Para correr una función definida en otro script\\nget_ipython().run_line_magic('run', 'test.py')\", \"## Para determinar el tiempo de ejecución de una línea de código\\nget_ipython().run_line_magic('timeit', 'L = [n ** 2 for n in range(1000)]')\", '## Para utilizar funciones de algunas bibliotecas, las importamos\\nimport math\\n\\nmath.tan(math.pi/2)', '## Para observar el historial de las funciones que hemos utilizado\\nprint(In)']\n"
     ]
    }
   ],
   "source": [
    "## Para observar el historial de las funciones que hemos utilizado\n",
    "print(In)"
   ]
  },
  {
   "cell_type": "code",
   "execution_count": 12,
   "metadata": {},
   "outputs": [
    {
     "data": {
      "text/plain": [
       "{10: 1.633123935319537e+16}"
      ]
     },
     "execution_count": 12,
     "metadata": {},
     "output_type": "execute_result"
    }
   ],
   "source": [
    "## Para observar el historial de lo que hemos impreso\n",
    "## Jugué un poco con el argumento de la tangente\n",
    "Out"
   ]
  },
  {
   "cell_type": "code",
   "execution_count": 13,
   "metadata": {},
   "outputs": [
    {
     "name": "stdout",
     "output_type": "stream",
     "text": [
      "1.633123935319537e+16\n",
      "\n",
      "\n"
     ]
    }
   ],
   "source": [
    "## Se imprime la última salida\n",
    "print(_)\n",
    "## Ahora la penúltima\n",
    "print(__)\n",
    "## Ahora la antepenúltima\n",
    "print(___)"
   ]
  },
  {
   "cell_type": "code",
   "execution_count": 14,
   "metadata": {},
   "outputs": [],
   "source": [
    "## Si se desea obtener un resultado sin imprimirlo y sólo guardarlo en el kernel se usa ;\n",
    "math.sin(math.pi/2) + math.cos(math.pi/2);"
   ]
  },
  {
   "cell_type": "code",
   "execution_count": 15,
   "metadata": {},
   "outputs": [
    {
     "data": {
      "text/plain": [
       "False"
      ]
     },
     "execution_count": 15,
     "metadata": {},
     "output_type": "execute_result"
    }
   ],
   "source": [
    "## El resultado de lo anterior se guarda en Out y puede compararse\n",
    "1 in Out"
   ]
  },
  {
   "cell_type": "code",
   "execution_count": 16,
   "metadata": {},
   "outputs": [
    {
     "name": "stdout",
     "output_type": "stream",
     "text": [
      "   1:\n",
      "## Para saber cómo funciona una función de python característica\n",
      "## Utilizamos help()\n",
      "help(len)\n",
      "   2:\n",
      "## Para obtener otra información relevante usamos ? después de la función\n",
      "len?\n",
      "   3:\n",
      "## Otros ejemplos\n",
      "S = [0, 1, 2]\n",
      "S?\n"
     ]
    }
   ],
   "source": [
    "## Para imprimir las primeras entradas, por ejemplo 3, se utiliza history\n",
    "%history -n 1-3"
   ]
  },
  {
   "cell_type": "markdown",
   "metadata": {},
   "source": [
    "- IPython and Shell Commands\n"
   ]
  },
  {
   "cell_type": "code",
   "execution_count": 17,
   "metadata": {},
   "outputs": [
    {
     "name": "stdout",
     "output_type": "stream",
     "text": [
      "Hola mundo y todos los que lo habitan\n"
     ]
    }
   ],
   "source": [
    "## Para imprimir una linea de texto se utiliza echo \"Hola mundo\" en consola\n",
    "!echo \"Hola mundo y todos los que lo habitan\""
   ]
  },
  {
   "cell_type": "code",
   "execution_count": 18,
   "metadata": {},
   "outputs": [
    {
     "name": "stdout",
     "output_type": "stream",
     "text": [
      "/home/anita/Documents/Analisis_Datos/da2019-anaisabelotodo/Semana1\n"
     ]
    }
   ],
   "source": [
    "## Para imprimir el directorio en el que estamos\n",
    "!pwd"
   ]
  },
  {
   "cell_type": "code",
   "execution_count": 19,
   "metadata": {},
   "outputs": [
    {
     "name": "stdout",
     "output_type": "stream",
     "text": [
      "funcion.py   Readme.md\t\t  Tarea.md  Trabajo1raClase.ipynb\n",
      "__pycache__  Tarea1-Punto1.ipynb  test.py   untitled.txt\n"
     ]
    }
   ],
   "source": [
    "## Para imprimir los archivos o carpetas que están dentro de Semana1\n",
    "!ls"
   ]
  },
  {
   "cell_type": "code",
   "execution_count": 20,
   "metadata": {},
   "outputs": [
    {
     "name": "stdout",
     "output_type": "stream",
     "text": [
      "['funcion.py', '__pycache__', 'Readme.md', 'Tarea1-Punto1.ipynb', 'Tarea.md', 'test.py', 'Trabajo1raClase.ipynb', 'untitled.txt']\n",
      "['/home/anita/Documents/Analisis_Datos/da2019-anaisabelotodo/Semana1']\n"
     ]
    }
   ],
   "source": [
    "## Puede asignarse una shell a una lista\n",
    "Contenido = !ls\n",
    "print(Contenido)\n",
    "\n",
    "Directorio = !pwd \n",
    "print(Directorio)"
   ]
  },
  {
   "cell_type": "code",
   "execution_count": 21,
   "metadata": {},
   "outputs": [
    {
     "name": "stdout",
     "output_type": "stream",
     "text": [
      "Hola mundo y todos los que lo habitan\n"
     ]
    }
   ],
   "source": [
    "## Se puede imprimir una cadena utilizando variables\n",
    "## Luego se utiliza echo y {}\n",
    "mensaje = \"Hola mundo y todos los que lo habitan\"\n",
    "\n",
    "!echo {mensaje}"
   ]
  },
  {
   "cell_type": "code",
   "execution_count": 22,
   "metadata": {},
   "outputs": [
    {
     "name": "stdout",
     "output_type": "stream",
     "text": [
      "/home/anita/Documents/Analisis_Datos/da2019-anaisabelotodo\n",
      "/home/anita/Documents/Analisis_Datos/da2019-anaisabelotodo\n",
      "/home/anita/Documents/Analisis_Datos/da2019-anaisabelotodo/Semana1\n",
      "/home/anita/Documents/Analisis_Datos/da2019-anaisabelotodo/Semana1\n"
     ]
    }
   ],
   "source": [
    "## Puede navegarse en el directorio, crear carpetas, salir de una carpeta y regresar a ésta\n",
    "%cd ..\n",
    "!pwd\n",
    "%cd Semana1\n",
    "!pwd"
   ]
  },
  {
   "cell_type": "markdown",
   "metadata": {},
   "source": [
    "- Errors and Debugging"
   ]
  },
  {
   "cell_type": "code",
   "execution_count": 23,
   "metadata": {},
   "outputs": [
    {
     "name": "stdout",
     "output_type": "stream",
     "text": [
      "Exception reporting mode: Plain\n"
     ]
    },
    {
     "ename": "ZeroDivisionError",
     "evalue": "division by zero",
     "output_type": "error",
     "traceback": [
      "Traceback \u001b[0;36m(most recent call last)\u001b[0m:\n",
      "  File \u001b[1;32m\"<ipython-input-23-01b17a21b114>\"\u001b[0m, line \u001b[1;32m11\u001b[0m, in \u001b[1;35m<module>\u001b[0m\n    func2(1)\n",
      "  File \u001b[1;32m\"<ipython-input-23-01b17a21b114>\"\u001b[0m, line \u001b[1;32m8\u001b[0m, in \u001b[1;35mfunc2\u001b[0m\n    return func1(a, b)\n",
      "\u001b[0;36m  File \u001b[0;32m\"<ipython-input-23-01b17a21b114>\"\u001b[0;36m, line \u001b[0;32m3\u001b[0;36m, in \u001b[0;35mfunc1\u001b[0;36m\u001b[0m\n\u001b[0;31m    return a / b\u001b[0m\n",
      "\u001b[0;31mZeroDivisionError\u001b[0m\u001b[0;31m:\u001b[0m division by zero\n"
     ]
    }
   ],
   "source": [
    "## Usando %xmode se controla la cantidad de información que se imprime en un error\n",
    "def func1(a, b):\n",
    "    return a / b\n",
    "\n",
    "def func2(x):\n",
    "    a = x\n",
    "    b = x - 1\n",
    "    return func1(a, b)\n",
    "\n",
    "%xmode Plain \n",
    "func2(1) \n",
    "## Hay error por la división por cero, pero con %xmode controlamos la cantidad de \n",
    "##informacion que se imprime en un error"
   ]
  },
  {
   "cell_type": "code",
   "execution_count": 24,
   "metadata": {},
   "outputs": [
    {
     "name": "stdout",
     "output_type": "stream",
     "text": [
      "> \u001b[0;32m<ipython-input-23-01b17a21b114>\u001b[0m(3)\u001b[0;36mfunc1\u001b[0;34m()\u001b[0m\n",
      "\u001b[0;32m      1 \u001b[0;31m\u001b[0;31m## Usando %xmode se controla la cantidad de información que se imprime en un error\u001b[0m\u001b[0;34m\u001b[0m\u001b[0;34m\u001b[0m\u001b[0;34m\u001b[0m\u001b[0m\n",
      "\u001b[0m\u001b[0;32m      2 \u001b[0;31m\u001b[0;32mdef\u001b[0m \u001b[0mfunc1\u001b[0m\u001b[0;34m(\u001b[0m\u001b[0ma\u001b[0m\u001b[0;34m,\u001b[0m \u001b[0mb\u001b[0m\u001b[0;34m)\u001b[0m\u001b[0;34m:\u001b[0m\u001b[0;34m\u001b[0m\u001b[0;34m\u001b[0m\u001b[0m\n",
      "\u001b[0m\u001b[0;32m----> 3 \u001b[0;31m    \u001b[0;32mreturn\u001b[0m \u001b[0ma\u001b[0m \u001b[0;34m/\u001b[0m \u001b[0mb\u001b[0m\u001b[0;34m\u001b[0m\u001b[0;34m\u001b[0m\u001b[0m\n",
      "\u001b[0m\u001b[0;32m      4 \u001b[0;31m\u001b[0;34m\u001b[0m\u001b[0m\n",
      "\u001b[0m\u001b[0;32m      5 \u001b[0;31m\u001b[0;32mdef\u001b[0m \u001b[0mfunc2\u001b[0m\u001b[0;34m(\u001b[0m\u001b[0mx\u001b[0m\u001b[0;34m)\u001b[0m\u001b[0;34m:\u001b[0m\u001b[0;34m\u001b[0m\u001b[0;34m\u001b[0m\u001b[0m\n",
      "\u001b[0m\n"
     ]
    },
    {
     "name": "stdin",
     "output_type": "stream",
     "text": [
      "ipdb>  print(a)\n"
     ]
    },
    {
     "name": "stdout",
     "output_type": "stream",
     "text": [
      "1\n"
     ]
    },
    {
     "name": "stdin",
     "output_type": "stream",
     "text": [
      "ipdb>  print(b)\n"
     ]
    },
    {
     "name": "stdout",
     "output_type": "stream",
     "text": [
      "0\n"
     ]
    },
    {
     "name": "stdin",
     "output_type": "stream",
     "text": [
      "ipdb>  it\n"
     ]
    },
    {
     "name": "stdout",
     "output_type": "stream",
     "text": [
      "*** NameError: name 'it' is not defined\n"
     ]
    },
    {
     "name": "stdin",
     "output_type": "stream",
     "text": [
      "ipdb>  quit\n"
     ]
    }
   ],
   "source": [
    "## Utilizando %debug puede observarse el historial del proceso anterior\n",
    "## Se obtiene una ventana interactiva en la que pueden realizarse diferentes cosas\n",
    "## Ejemplo: puede imprimirse a, b o x.\n",
    "%debug"
   ]
  },
  {
   "cell_type": "code",
   "execution_count": 25,
   "metadata": {},
   "outputs": [
    {
     "name": "stdout",
     "output_type": "stream",
     "text": [
      "Exception reporting mode: Plain\n",
      "Automatic pdb calling has been turned ON\n"
     ]
    },
    {
     "ename": "ZeroDivisionError",
     "evalue": "division by zero",
     "output_type": "error",
     "traceback": [
      "Traceback \u001b[0;36m(most recent call last)\u001b[0m:\n",
      "  File \u001b[1;32m\"<ipython-input-25-5a7604943e6a>\"\u001b[0m, line \u001b[1;32m4\u001b[0m, in \u001b[1;35m<module>\u001b[0m\n    func2(1)\n",
      "  File \u001b[1;32m\"<ipython-input-23-01b17a21b114>\"\u001b[0m, line \u001b[1;32m8\u001b[0m, in \u001b[1;35mfunc2\u001b[0m\n    return func1(a, b)\n",
      "\u001b[0;36m  File \u001b[0;32m\"<ipython-input-23-01b17a21b114>\"\u001b[0;36m, line \u001b[0;32m3\u001b[0;36m, in \u001b[0;35mfunc1\u001b[0;36m\u001b[0m\n\u001b[0;31m    return a / b\u001b[0m\n",
      "\u001b[0;31mZeroDivisionError\u001b[0m\u001b[0;31m:\u001b[0m division by zero\n"
     ]
    },
    {
     "name": "stdout",
     "output_type": "stream",
     "text": [
      "> \u001b[0;32m<ipython-input-23-01b17a21b114>\u001b[0m(3)\u001b[0;36mfunc1\u001b[0;34m()\u001b[0m\n",
      "\u001b[0;32m      1 \u001b[0;31m\u001b[0;31m## Usando %xmode se controla la cantidad de información que se imprime en un error\u001b[0m\u001b[0;34m\u001b[0m\u001b[0;34m\u001b[0m\u001b[0;34m\u001b[0m\u001b[0m\n",
      "\u001b[0m\u001b[0;32m      2 \u001b[0;31m\u001b[0;32mdef\u001b[0m \u001b[0mfunc1\u001b[0m\u001b[0;34m(\u001b[0m\u001b[0ma\u001b[0m\u001b[0;34m,\u001b[0m \u001b[0mb\u001b[0m\u001b[0;34m)\u001b[0m\u001b[0;34m:\u001b[0m\u001b[0;34m\u001b[0m\u001b[0;34m\u001b[0m\u001b[0m\n",
      "\u001b[0m\u001b[0;32m----> 3 \u001b[0;31m    \u001b[0;32mreturn\u001b[0m \u001b[0ma\u001b[0m \u001b[0;34m/\u001b[0m \u001b[0mb\u001b[0m\u001b[0;34m\u001b[0m\u001b[0;34m\u001b[0m\u001b[0m\n",
      "\u001b[0m\u001b[0;32m      4 \u001b[0;31m\u001b[0;34m\u001b[0m\u001b[0m\n",
      "\u001b[0m\u001b[0;32m      5 \u001b[0;31m\u001b[0;32mdef\u001b[0m \u001b[0mfunc2\u001b[0m\u001b[0;34m(\u001b[0m\u001b[0mx\u001b[0m\u001b[0;34m)\u001b[0m\u001b[0;34m:\u001b[0m\u001b[0;34m\u001b[0m\u001b[0;34m\u001b[0m\u001b[0m\n",
      "\u001b[0m\n"
     ]
    },
    {
     "name": "stdin",
     "output_type": "stream",
     "text": [
      "ipdb>  print(a)\n"
     ]
    },
    {
     "name": "stdout",
     "output_type": "stream",
     "text": [
      "1\n"
     ]
    },
    {
     "name": "stdin",
     "output_type": "stream",
     "text": [
      "ipdb>  print(b)\n"
     ]
    },
    {
     "name": "stdout",
     "output_type": "stream",
     "text": [
      "0\n"
     ]
    },
    {
     "name": "stdin",
     "output_type": "stream",
     "text": [
      "ipdb>  quit\n"
     ]
    }
   ],
   "source": [
    "## Si queremos que el debugger aparezca cada vez que se obtiene un error\n",
    "%xmode Plain\n",
    "%pdb on\n",
    "func2(1)"
   ]
  },
  {
   "cell_type": "markdown",
   "metadata": {},
   "source": [
    "- Profiling and Timing Code"
   ]
  },
  {
   "cell_type": "code",
   "execution_count": 26,
   "metadata": {},
   "outputs": [
    {
     "name": "stdout",
     "output_type": "stream",
     "text": [
      "2.12 µs ± 33.1 ns per loop (mean ± std. dev. of 7 runs, 100000 loops each)\n"
     ]
    }
   ],
   "source": [
    "## %timeit se utiliza para calcular el tiempo de ejecución de fragmentos de código\n",
    "%timeit sum(range(100))"
   ]
  },
  {
   "cell_type": "code",
   "execution_count": 27,
   "metadata": {},
   "outputs": [
    {
     "name": "stdout",
     "output_type": "stream",
     "text": [
      "Ordenando una lista no ordenada:\n",
      "CPU times: user 32.8 ms, sys: 35 µs, total: 32.8 ms\n",
      "Wall time: 37.6 ms\n"
     ]
    }
   ],
   "source": [
    "## Puede calcularse el tiempo en que se ordena una lista que no está ordenada\n",
    "import random\n",
    "L = [random.random() for i in range(100000)]\n",
    "print(\"Ordenando una lista no ordenada:\")\n",
    "%time L.sort()"
   ]
  },
  {
   "cell_type": "code",
   "execution_count": 28,
   "metadata": {},
   "outputs": [
    {
     "name": "stdout",
     "output_type": "stream",
     "text": [
      "CPU times: user 5.4 ms, sys: 52 µs, total: 5.45 ms\n",
      "Wall time: 5.37 ms\n"
     ]
    }
   ],
   "source": [
    "#El tiempo se acorta cuando se ordena la lista que ya está ordenada\n",
    "%time L.sort()"
   ]
  },
  {
   "cell_type": "code",
   "execution_count": 29,
   "metadata": {},
   "outputs": [],
   "source": [
    "## Para medir el tiempo en que se ejecuta un conjunto de comandos\n",
    "j = 0\n",
    "def sum_of_lists(N):\n",
    "    total = 0\n",
    "    for i in range(5):\n",
    "        L = [j**2 for j in range(N)]\n",
    "        total += sum(L)\n",
    "    return total"
   ]
  },
  {
   "cell_type": "code",
   "execution_count": 30,
   "metadata": {},
   "outputs": [
    {
     "name": "stdout",
     "output_type": "stream",
     "text": [
      " "
     ]
    },
    {
     "data": {
      "text/plain": [
       "         14 function calls in 0.038 seconds\n",
       "\n",
       "   Ordered by: internal time\n",
       "\n",
       "   ncalls  tottime  percall  cumtime  percall filename:lineno(function)\n",
       "        5    0.036    0.007    0.036    0.007 <ipython-input-29-0d1c48d4d88c>:6(<listcomp>)\n",
       "        5    0.001    0.000    0.001    0.000 {built-in method builtins.sum}\n",
       "        1    0.001    0.001    0.038    0.038 <ipython-input-29-0d1c48d4d88c>:3(sum_of_lists)\n",
       "        1    0.000    0.000    0.038    0.038 <string>:1(<module>)\n",
       "        1    0.000    0.000    0.038    0.038 {built-in method builtins.exec}\n",
       "        1    0.000    0.000    0.000    0.000 {method 'disable' of '_lsprof.Profiler' objects}"
      ]
     },
     "metadata": {},
     "output_type": "display_data"
    }
   ],
   "source": [
    "%prun sum_of_lists(10000)"
   ]
  },
  {
   "cell_type": "code",
   "execution_count": 31,
   "metadata": {},
   "outputs": [],
   "source": [
    "## También se puede cuantificar la cantidad de memoria utilizada en un comando}\n",
    "## Primero instalamos memory_profiler\n",
    "## Luego la cargamos\n",
    "\n",
    "%load_ext memory_profiler\n"
   ]
  },
  {
   "cell_type": "code",
   "execution_count": 32,
   "metadata": {},
   "outputs": [
    {
     "name": "stdout",
     "output_type": "stream",
     "text": [
      "peak memory: 163.63 MiB, increment: 75.91 MiB\n"
     ]
    }
   ],
   "source": [
    "## Utilizamos %memit para cuantificar la memoria utilizada en un conjunto de comandos \n",
    "%memit sum_of_lists(1000000)"
   ]
  },
  {
   "cell_type": "markdown",
   "metadata": {},
   "source": [
    "# Capítulo 2: Introduction to NumPy"
   ]
  },
  {
   "cell_type": "markdown",
   "metadata": {},
   "source": [
    "- Understanding Data Types in Python"
   ]
  },
  {
   "cell_type": "code",
   "execution_count": 33,
   "metadata": {},
   "outputs": [
    {
     "name": "stdout",
     "output_type": "stream",
     "text": [
      "4950\n"
     ]
    },
    {
     "data": {
      "text/plain": [
       "int"
      ]
     },
     "execution_count": 33,
     "metadata": {},
     "output_type": "execute_result"
    }
   ],
   "source": [
    "## En Python no es necesario especificar el tipo de variable\n",
    "## Python concluye qué tipo de variable es\n",
    "result = 0\n",
    "for i in range(100):\n",
    "    result += i\n",
    "    \n",
    "    \n",
    "print(result)\n",
    "type(result)"
   ]
  },
  {
   "cell_type": "code",
   "execution_count": 34,
   "metadata": {},
   "outputs": [
    {
     "name": "stdout",
     "output_type": "stream",
     "text": [
      "4950\n",
      "Hola mundo y todos los que lo habitan\n"
     ]
    }
   ],
   "source": [
    "## Y una variable puede ser diferentes tipos de variables de acuerdo a la secuencia en el código\n",
    "print(result)\n",
    "result = \"Hola mundo y todos los que lo habitan\"\n",
    "print(result)"
   ]
  },
  {
   "cell_type": "code",
   "execution_count": 35,
   "metadata": {},
   "outputs": [
    {
     "name": "stdout",
     "output_type": "stream",
     "text": [
      "[0, 1, 2, 3, 4, 5, 6, 7, 8, 9]\n"
     ]
    },
    {
     "data": {
      "text/plain": [
       "int"
      ]
     },
     "execution_count": 35,
     "metadata": {},
     "output_type": "execute_result"
    }
   ],
   "source": [
    "## En python puedes hacer listas de elementos\n",
    "lista = list(range(10))\n",
    "print(lista)\n",
    "type(lista[0])"
   ]
  },
  {
   "cell_type": "code",
   "execution_count": 36,
   "metadata": {},
   "outputs": [
    {
     "name": "stdout",
     "output_type": "stream",
     "text": [
      "['0', '1', '2', '3', '4', '5', '6', '7', '8', '9']\n"
     ]
    },
    {
     "data": {
      "text/plain": [
       "str"
      ]
     },
     "execution_count": 36,
     "metadata": {},
     "output_type": "execute_result"
    }
   ],
   "source": [
    "## Incluso listas de tipo string\n",
    "lista2 = [str(c) for c in lista]\n",
    "print(lista2)\n",
    "type(lista2[0])"
   ]
  },
  {
   "cell_type": "code",
   "execution_count": 37,
   "metadata": {},
   "outputs": [
    {
     "data": {
      "text/plain": [
       "[bool, str, float, int]"
      ]
     },
     "execution_count": 37,
     "metadata": {},
     "output_type": "execute_result"
    }
   ],
   "source": [
    "## También listas con diferentes tipos de variables\n",
    "lista3 = [True, \"Hola\", 5.6, 1]\n",
    "[type(item) for item in lista3]"
   ]
  },
  {
   "cell_type": "code",
   "execution_count": 38,
   "metadata": {},
   "outputs": [
    {
     "data": {
      "text/plain": [
       "array('i', [0, 1, 2, 3, 4, 5, 6, 7, 8, 9])"
      ]
     },
     "execution_count": 38,
     "metadata": {},
     "output_type": "execute_result"
    }
   ],
   "source": [
    "## Para guardar una lista en un arreglo y fijar el tipo de dato que se guardará\n",
    "import array\n",
    "lisa = list(range(10))\n",
    "Arreglo = array.array('i', lista)\n",
    "Arreglo"
   ]
  },
  {
   "cell_type": "code",
   "execution_count": 3,
   "metadata": {},
   "outputs": [],
   "source": [
    "## Importamos una nueva librería\n",
    "import numpy as np"
   ]
  },
  {
   "cell_type": "code",
   "execution_count": 4,
   "metadata": {},
   "outputs": [
    {
     "data": {
      "text/plain": [
       "array([1, 2, 3, 4, 5])"
      ]
     },
     "execution_count": 4,
     "metadata": {},
     "output_type": "execute_result"
    }
   ],
   "source": [
    "## Utilizamos np.array para crear un arreglo desde una lista\n",
    "\n",
    "## Arreglo entero\n",
    "np.array([1, 2, 3, 4, 5])"
   ]
  },
  {
   "cell_type": "code",
   "execution_count": 5,
   "metadata": {},
   "outputs": [
    {
     "data": {
      "text/plain": [
       "array([3.1, 0. , 1. , 2. , 3. ])"
      ]
     },
     "execution_count": 5,
     "metadata": {},
     "output_type": "execute_result"
    }
   ],
   "source": [
    "## NumPy sólo permite que los elementos de los arreglos sean de un mismo tipo.\n",
    "np.array([3.1, 0, 1, 2, 3])"
   ]
  },
  {
   "cell_type": "code",
   "execution_count": 6,
   "metadata": {},
   "outputs": [
    {
     "data": {
      "text/plain": [
       "array([[2, 3, 4],\n",
       "       [4, 5, 6],\n",
       "       [6, 7, 8]])"
      ]
     },
     "execution_count": 6,
     "metadata": {},
     "output_type": "execute_result"
    }
   ],
   "source": [
    "## También pueden crearse arreglos multidimensionales utilizando listas de listas\n",
    "np.array([range(i, i + 3) for i in [2, 4, 6]])"
   ]
  },
  {
   "cell_type": "code",
   "execution_count": 7,
   "metadata": {},
   "outputs": [
    {
     "data": {
      "text/plain": [
       "array([0, 0, 0, 0, 0, 0, 0, 0, 0, 0])"
      ]
     },
     "execution_count": 7,
     "metadata": {},
     "output_type": "execute_result"
    }
   ],
   "source": [
    "## Generando arreglos desde cero\n",
    "\n",
    "## Creando un arreglo de 10 enteros lleno con ceros\n",
    "np.zeros(10, dtype=int)"
   ]
  },
  {
   "cell_type": "code",
   "execution_count": 8,
   "metadata": {},
   "outputs": [
    {
     "data": {
      "text/plain": [
       "array([[1., 1., 1., 1., 1.],\n",
       "       [1., 1., 1., 1., 1.],\n",
       "       [1., 1., 1., 1., 1.]])"
      ]
     },
     "execution_count": 8,
     "metadata": {},
     "output_type": "execute_result"
    }
   ],
   "source": [
    "## Generando arreglos desde cero\n",
    "\n",
    "## Creando una matriz de 3x5 de tipo float lleno con unos\n",
    "np.ones((3, 5), dtype=float)"
   ]
  },
  {
   "cell_type": "code",
   "execution_count": 9,
   "metadata": {},
   "outputs": [
    {
     "data": {
      "text/plain": [
       "array([ 0,  2,  4,  6,  8, 10, 12, 14, 16, 18])"
      ]
     },
     "execution_count": 9,
     "metadata": {},
     "output_type": "execute_result"
    }
   ],
   "source": [
    "## Generando un arreglo que empieza en 0, va de 2 en 2 y termina en 20\n",
    "np.arange(0, 20, 2)"
   ]
  },
  {
   "cell_type": "code",
   "execution_count": 10,
   "metadata": {},
   "outputs": [
    {
     "data": {
      "text/plain": [
       "array([0.  , 0.25, 0.5 , 0.75, 1.  ])"
      ]
     },
     "execution_count": 10,
     "metadata": {},
     "output_type": "execute_result"
    }
   ],
   "source": [
    "## Generando un arreglo de 5 elementos igualmente espaciados entre 0 y 1\n",
    "np.linspace(0, 1, 5)"
   ]
  },
  {
   "cell_type": "code",
   "execution_count": 11,
   "metadata": {},
   "outputs": [
    {
     "data": {
      "text/plain": [
       "array([[0.17030573, 0.66535672, 0.92825036],\n",
       "       [0.16061081, 0.13986028, 0.35533715],\n",
       "       [0.32206578, 0.78580596, 0.41672289]])"
      ]
     },
     "execution_count": 11,
     "metadata": {},
     "output_type": "execute_result"
    }
   ],
   "source": [
    "## Generando una matriz de 3x3 con elementos aleatorios entre 0 y 1\n",
    "np.random.random((3, 3))"
   ]
  },
  {
   "cell_type": "code",
   "execution_count": 12,
   "metadata": {},
   "outputs": [
    {
     "data": {
      "text/plain": [
       "array([[5, 1, 5],\n",
       "       [8, 9, 4],\n",
       "       [8, 6, 1]])"
      ]
     },
     "execution_count": 12,
     "metadata": {},
     "output_type": "execute_result"
    }
   ],
   "source": [
    "## Generando una matriz de 3x3 de enteros aleatorios en 0 y 10\n",
    "np.random.randint(0, 10, (3, 3))"
   ]
  },
  {
   "cell_type": "code",
   "execution_count": 13,
   "metadata": {},
   "outputs": [
    {
     "data": {
      "text/plain": [
       "array([[1., 0., 0.],\n",
       "       [0., 1., 0.],\n",
       "       [0., 0., 1.]])"
      ]
     },
     "execution_count": 13,
     "metadata": {},
     "output_type": "execute_result"
    }
   ],
   "source": [
    "## Generando una matriz identidad de 3x3\n",
    "np.eye(3)"
   ]
  },
  {
   "cell_type": "markdown",
   "metadata": {},
   "source": [
    "- The Basics of NumPy Arrays"
   ]
  },
  {
   "cell_type": "code",
   "execution_count": 14,
   "metadata": {},
   "outputs": [
    {
     "name": "stdout",
     "output_type": "stream",
     "text": [
      "Una dimensión\n",
      "[2 0 8 1 4 2]\n",
      "Dos dimensiones\n",
      "[[8 3 6 6]\n",
      " [9 1 3 8]\n",
      " [3 9 1 8]]\n",
      "Tres dimensiones\n",
      "[[[1 6 0 9 5]\n",
      "  [9 4 1 2 6]\n",
      "  [1 3 7 4 2]\n",
      "  [7 4 9 2 2]]\n",
      "\n",
      " [[0 2 6 7 9]\n",
      "  [6 4 6 9 7]\n",
      "  [4 5 6 5 5]\n",
      "  [6 7 2 5 1]]\n",
      "\n",
      " [[1 0 7 6 5]\n",
      "  [6 1 4 8 6]\n",
      "  [9 2 2 7 9]\n",
      "  [7 6 9 1 3]]]\n"
     ]
    }
   ],
   "source": [
    "## Para generar arreglos multidimensionales\n",
    "x1 = np.random.randint(10, size=6)  # One-dimensional array\n",
    "x2 = np.random.randint(10, size=(3, 4))  # Two-dimensional array\n",
    "x3 = np.random.randint(10, size=(3, 4, 5))  # Three-dimensional array\n",
    "\n",
    "!echo \"Una dimensión\"\n",
    "print(x1)\n",
    "!echo \"Dos dimensiones\"\n",
    "print(x2)\n",
    "!echo \"Tres dimensiones\"\n",
    "print(x3)"
   ]
  },
  {
   "cell_type": "code",
   "execution_count": 15,
   "metadata": {},
   "outputs": [
    {
     "name": "stdout",
     "output_type": "stream",
     "text": [
      "x3 ndim:  3\n",
      "x3 shape: (3, 4, 5)\n",
      "x3 size:  60\n"
     ]
    }
   ],
   "source": [
    "## Pueden imprimirse las dimensiones, el tamaño de cada dimensión y el tamaño total del array\n",
    "print(\"x3 ndim: \", x3.ndim)\n",
    "print(\"x3 shape:\", x3.shape)\n",
    "print(\"x3 size: \", x3.size)"
   ]
  },
  {
   "cell_type": "code",
   "execution_count": 16,
   "metadata": {},
   "outputs": [
    {
     "data": {
      "text/plain": [
       "8"
      ]
     },
     "execution_count": 16,
     "metadata": {},
     "output_type": "execute_result"
    }
   ],
   "source": [
    "## Para accesar a un elemento del arreglo de una dimensión\n",
    "x1[2]"
   ]
  },
  {
   "cell_type": "code",
   "execution_count": 17,
   "metadata": {},
   "outputs": [
    {
     "data": {
      "text/plain": [
       "3"
      ]
     },
     "execution_count": 17,
     "metadata": {},
     "output_type": "execute_result"
    }
   ],
   "source": [
    "## Para accesar a un elemento del arreglo de dos dimensiones\n",
    "x2[2,0]"
   ]
  },
  {
   "cell_type": "code",
   "execution_count": 18,
   "metadata": {},
   "outputs": [
    {
     "data": {
      "text/plain": [
       "6"
      ]
     },
     "execution_count": 18,
     "metadata": {},
     "output_type": "execute_result"
    }
   ],
   "source": [
    "## Para accesar a un elemento del arreglo de tres dimensiones\n",
    "x3[0,0,1]"
   ]
  },
  {
   "cell_type": "code",
   "execution_count": 19,
   "metadata": {},
   "outputs": [
    {
     "name": "stdout",
     "output_type": "stream",
     "text": [
      "[[8 3 6 6]\n",
      " [9 1 3 8]\n",
      " [2 9 1 8]]\n"
     ]
    }
   ],
   "source": [
    "## Y se pueden modificar los valores del arreglo de la siguiente manera\n",
    "x2[2,0] = 2\n",
    "print(x2)"
   ]
  },
  {
   "cell_type": "code",
   "execution_count": 21,
   "metadata": {},
   "outputs": [
    {
     "data": {
      "text/plain": [
       "array([4, 5, 6])"
      ]
     },
     "execution_count": 21,
     "metadata": {},
     "output_type": "execute_result"
    }
   ],
   "source": [
    "## Para imprimir algunos elementos del arreglo específicos\n",
    "x = np.arange(10)\n",
    "x[4:7] "
   ]
  },
  {
   "cell_type": "code",
   "execution_count": 22,
   "metadata": {},
   "outputs": [
    {
     "data": {
      "text/plain": [
       "array([[8, 3, 6],\n",
       "       [9, 1, 3]])"
      ]
     },
     "execution_count": 22,
     "metadata": {},
     "output_type": "execute_result"
    }
   ],
   "source": [
    "## Lo mismo, pero para un arreglo multidimensional\n",
    "x2[:2, :3]  ## dos renglones, tres columnas"
   ]
  },
  {
   "cell_type": "code",
   "execution_count": 23,
   "metadata": {},
   "outputs": [
    {
     "name": "stdout",
     "output_type": "stream",
     "text": [
      "[8 9 2]\n"
     ]
    }
   ],
   "source": [
    "## Ahora utilizando print\n",
    "print(x2[:, 0])  ## primera columna de x2"
   ]
  },
  {
   "cell_type": "code",
   "execution_count": 24,
   "metadata": {},
   "outputs": [
    {
     "name": "stdout",
     "output_type": "stream",
     "text": [
      "[8 3 6 6]\n"
     ]
    }
   ],
   "source": [
    "print(x2[0, :]) ## primer renglón"
   ]
  },
  {
   "cell_type": "code",
   "execution_count": 25,
   "metadata": {},
   "outputs": [
    {
     "name": "stdout",
     "output_type": "stream",
     "text": [
      "[8 3 6 6]\n"
     ]
    }
   ],
   "source": [
    "print(x2[0])  # equivalente a x2[0, :]"
   ]
  },
  {
   "cell_type": "code",
   "execution_count": 26,
   "metadata": {},
   "outputs": [
    {
     "name": "stdout",
     "output_type": "stream",
     "text": [
      "[[8 3]\n",
      " [9 1]]\n"
     ]
    }
   ],
   "source": [
    "## Se puede obtener un sub-arreglo de un arreglo\n",
    "x2_sub = x2[:2, :2]\n",
    "print(x2_sub)\n",
    "## Modificaciones al sub-arreglo dan como consecuencia una modificación al arreglo"
   ]
  },
  {
   "cell_type": "code",
   "execution_count": 27,
   "metadata": {},
   "outputs": [
    {
     "name": "stdout",
     "output_type": "stream",
     "text": [
      "[[8 3]\n",
      " [9 1]]\n"
     ]
    }
   ],
   "source": [
    "## También se puede obtener un sub-arreglo de un arreglo sin que su modifición afecte al otro\n",
    "x2_sub_copy = x2[:2, :2].copy()\n",
    "print(x2_sub_copy)"
   ]
  },
  {
   "cell_type": "code",
   "execution_count": 28,
   "metadata": {},
   "outputs": [
    {
     "data": {
      "text/plain": [
       "array([1, 2, 3, 3, 2, 1])"
      ]
     },
     "execution_count": 28,
     "metadata": {},
     "output_type": "execute_result"
    }
   ],
   "source": [
    "## Para concatenar dos o más arreglos \n",
    "x = np.array([1, 2, 3])\n",
    "y = np.array([3, 2, 1])\n",
    "np.concatenate([x, y])"
   ]
  },
  {
   "cell_type": "code",
   "execution_count": 31,
   "metadata": {},
   "outputs": [
    {
     "name": "stdout",
     "output_type": "stream",
     "text": [
      "[1 2] [ 3 99 99] [3 2 1]\n"
     ]
    }
   ],
   "source": [
    "## Para separar un arreglo en dos o más\n",
    "x = [1, 2, 3, 99, 99, 3, 2, 1]\n",
    "x1, x2, x3 = np.split(x, [2, 5])\n",
    "print(x1, x2, x3)"
   ]
  },
  {
   "cell_type": "markdown",
   "metadata": {},
   "source": [
    "- Computation on NumPy Arrays: Universal Functions"
   ]
  },
  {
   "cell_type": "code",
   "execution_count": 38,
   "metadata": {},
   "outputs": [
    {
     "name": "stdout",
     "output_type": "stream",
     "text": [
      "x     = [0 1 2 3]\n",
      "x + 5 = [5 6 7 8]\n",
      "x - 5 = [-5 -4 -3 -2]\n",
      "x * 2 = [0 2 4 6]\n",
      "x / 2 = [0.  0.5 1.  1.5]\n",
      "x // 2 = [0 0 1 1]\n",
      "[2 3 4 5]\n",
      "[-2 -1  0  1]\n",
      "[0 1 2 3]\n"
     ]
    }
   ],
   "source": [
    "## NumPy's ufuncs pueden usarse con +, -, *, /\n",
    "x = np.arange(4)\n",
    "print(\"x     =\", x)\n",
    "print(\"x + 5 =\", x + 5)\n",
    "print(\"x - 5 =\", x - 5)\n",
    "print(\"x * 2 =\", x * 2)\n",
    "print(\"x / 2 =\", x / 2)\n",
    "print(\"x // 2 =\", x // 2)\n",
    "print(np.add(x, 2)) ##Se suman 2 a cada elemento del array\n",
    "print(np.subtract(x,2)) ## Se restan 2 a cada elemento del array\n",
    "print(np.abs(x))   ##Valor absoluto de cada elemento"
   ]
  },
  {
   "cell_type": "code",
   "execution_count": 41,
   "metadata": {},
   "outputs": [
    {
     "name": "stdout",
     "output_type": "stream",
     "text": [
      "Funciones trigonometricas\n",
      "theta      =  [0.         1.57079633 3.14159265]\n",
      "sin(theta) =  [0.0000000e+00 1.0000000e+00 1.2246468e-16]\n",
      "cos(theta) =  [ 1.000000e+00  6.123234e-17 -1.000000e+00]\n",
      "tan(theta) =  [ 0.00000000e+00  1.63312394e+16 -1.22464680e-16]\n",
      "Exponentes\n",
      "x     = [1, 2, 3]\n",
      "e^x   = [ 2.71828183  7.3890561  20.08553692]\n",
      "2^x   = [2. 4. 8.]\n",
      "3^x   = [ 3  9 27]\n",
      "Logaritmos\n",
      "x        = [1, 2, 4, 10]\n",
      "ln(x)    = [0.         0.69314718 1.38629436 2.30258509]\n",
      "log2(x)  = [0.         1.         2.         3.32192809]\n",
      "log10(x) = [0.         0.30103    0.60205999 1.        ]\n"
     ]
    }
   ],
   "source": [
    "## NumPy's ufuncs pueden usar con funciones trigonométricas, exponentes y logaritmos\n",
    "!echo \"Funciones trigonometricas\"\n",
    "theta = np.linspace(0, np.pi, 3)\n",
    "print(\"theta      = \", theta)\n",
    "print(\"sin(theta) = \", np.sin(theta))\n",
    "print(\"cos(theta) = \", np.cos(theta))\n",
    "print(\"tan(theta) = \", np.tan(theta))\n",
    "\n",
    "!echo \"Exponentes\"\n",
    "x = [1, 2, 3]\n",
    "print(\"x     =\", x)\n",
    "print(\"e^x   =\", np.exp(x))\n",
    "print(\"2^x   =\", np.exp2(x))\n",
    "print(\"3^x   =\", np.power(3, x))\n",
    "\n",
    "!echo \"Logaritmos\"\n",
    "x = [1, 2, 4, 10]\n",
    "print(\"x        =\", x)\n",
    "print(\"ln(x)    =\", np.log(x))\n",
    "print(\"log2(x)  =\", np.log2(x))\n",
    "print(\"log10(x) =\", np.log10(x))"
   ]
  },
  {
   "cell_type": "code",
   "execution_count": 44,
   "metadata": {},
   "outputs": [
    {
     "name": "stdout",
     "output_type": "stream",
     "text": [
      "gamma(x)     = [1.0000e+00 2.4000e+01 3.6288e+05]\n",
      "ln|gamma(x)| = [ 0.          3.17805383 12.80182748]\n",
      "beta(x, 2)   = [0.5        0.03333333 0.00909091]\n"
     ]
    }
   ],
   "source": [
    "## Para ufuncs especializadas\n",
    "from scipy import special\n",
    "x = [1, 5, 10]\n",
    "print(\"gamma(x)     =\", special.gamma(x))\n",
    "print(\"ln|gamma(x)| =\", special.gammaln(x))\n",
    "print(\"beta(x, 2)   =\", special.beta(x, 2))"
   ]
  },
  {
   "cell_type": "markdown",
   "metadata": {},
   "source": [
    "- Aggregations: Min, Max, and Everything In Between"
   ]
  },
  {
   "cell_type": "code",
   "execution_count": 45,
   "metadata": {},
   "outputs": [
    {
     "data": {
      "text/plain": [
       "4.218591158176711"
      ]
     },
     "execution_count": 45,
     "metadata": {},
     "output_type": "execute_result"
    }
   ],
   "source": [
    "## Para sumar los valores de un arreglo\n",
    "arreglo = np.random.random(10)\n",
    "sum(arreglo)"
   ]
  },
  {
   "cell_type": "code",
   "execution_count": 49,
   "metadata": {},
   "outputs": [
    {
     "name": "stdout",
     "output_type": "stream",
     "text": [
      "0.021205350374916\n",
      "0.977017017402954\n"
     ]
    }
   ],
   "source": [
    "## Para encontrar el mínimo y el máximo valor de un arreglo\n",
    "print(np.min(arreglo))\n",
    "print(np.max(arreglo))"
   ]
  },
  {
   "cell_type": "code",
   "execution_count": 52,
   "metadata": {},
   "outputs": [
    {
     "name": "stdout",
     "output_type": "stream",
     "text": [
      "[[0.39530764 0.30762521 0.87612691 0.52558645]\n",
      " [0.60875839 0.36992374 0.01003383 0.75704084]\n",
      " [0.15013178 0.3743915  0.59830606 0.40949152]]\n",
      "Suma total\n",
      "5.382723876634355\n"
     ]
    }
   ],
   "source": [
    "## Suma, mínimo y máximo en arreglos multidimensionales\n",
    "M = np.random.random((3, 4))\n",
    "print(M)\n",
    "!echo \"Suma total\"\n",
    "print(M.sum())"
   ]
  },
  {
   "cell_type": "code",
   "execution_count": 55,
   "metadata": {},
   "outputs": [
    {
     "name": "stdout",
     "output_type": "stream",
     "text": [
      "Mínimo en cada columna\n",
      "[0.15013178 0.30762521 0.01003383 0.40949152]\n",
      "Máximo en cada renglón\n",
      "[0.87612691 0.75704084 0.59830606]\n"
     ]
    }
   ],
   "source": [
    "## Mínimo y máximo especificando renglón o columna\n",
    "!echo \"Mínimo en cada columna\"\n",
    "print(M.min(axis=0))  ##Se imprime el mínimo número de cada columna\n",
    "!echo \"Máximo en cada renglón\"\n",
    "print(M.max(axis=1))  ##Se imprime el máximo en cada renglón"
   ]
  },
  {
   "cell_type": "markdown",
   "metadata": {},
   "source": [
    "- Computation on Arrays: Broadcasting"
   ]
  },
  {
   "cell_type": "code",
   "execution_count": 58,
   "metadata": {},
   "outputs": [
    {
     "data": {
      "text/plain": [
       "array([5, 6, 7, 5, 7])"
      ]
     },
     "execution_count": 58,
     "metadata": {},
     "output_type": "execute_result"
    }
   ],
   "source": [
    "## Broadcasting en arreglos\n",
    "a = np.array([0, 1, 2, 4, 6])\n",
    "b = np.array([5, 5, 5, 1, 1])\n",
    "a + b ##Se efectúa la suma aunque sean de diferente tamaño"
   ]
  },
  {
   "cell_type": "code",
   "execution_count": 61,
   "metadata": {},
   "outputs": [
    {
     "data": {
      "text/plain": [
       "array([[1., 2., 3., 5., 7.],\n",
       "       [1., 2., 3., 5., 7.],\n",
       "       [1., 2., 3., 5., 7.],\n",
       "       [1., 2., 3., 5., 7.],\n",
       "       [1., 2., 3., 5., 7.]])"
      ]
     },
     "execution_count": 61,
     "metadata": {},
     "output_type": "execute_result"
    }
   ],
   "source": [
    "M = np.ones((5, 5))\n",
    "M + a  ##Diferente número de dimensiones. El de menor dimensión se solapa con el de mayor"
   ]
  },
  {
   "cell_type": "code",
   "execution_count": 62,
   "metadata": {},
   "outputs": [
    {
     "data": {
      "text/plain": [
       "array([[0.95200325, 0.78719919, 0.79257796],\n",
       "       [0.49736213, 0.14774071, 0.07783146],\n",
       "       [0.90100686, 0.55591531, 0.98980603],\n",
       "       [0.67738331, 0.31681695, 0.73191621],\n",
       "       [0.7259671 , 0.18755964, 0.21290916],\n",
       "       [0.98729069, 0.23132377, 0.71659186],\n",
       "       [0.43240122, 0.24501193, 0.42668984],\n",
       "       [0.00433277, 0.53073358, 0.52644294],\n",
       "       [0.58796971, 0.0533225 , 0.5416627 ],\n",
       "       [0.02743683, 0.2134224 , 0.02365899]])"
      ]
     },
     "execution_count": 62,
     "metadata": {},
     "output_type": "execute_result"
    }
   ],
   "source": [
    "## Para centrar un arreglo\n",
    "X = np.random.random((10, 3))\n",
    "X"
   ]
  },
  {
   "cell_type": "code",
   "execution_count": 63,
   "metadata": {},
   "outputs": [
    {
     "name": "stdout",
     "output_type": "stream",
     "text": [
      "[0.57931539 0.3269046  0.50400871]\n"
     ]
    }
   ],
   "source": [
    "## Obtenemos la media de los elementos del arreglo y luego se la restamos a los elementos\n",
    "Xmean = X.mean(0)\n",
    "print(Xmean)"
   ]
  },
  {
   "cell_type": "code",
   "execution_count": 64,
   "metadata": {},
   "outputs": [
    {
     "data": {
      "text/plain": [
       "array([-6.66133815e-17, -1.11022302e-17,  7.77156117e-17])"
      ]
     },
     "execution_count": 64,
     "metadata": {},
     "output_type": "execute_result"
    }
   ],
   "source": [
    "## Obtenemos nuevo arreglo\n",
    "X_centered = X - Xmean\n",
    "X_centered.mean(0) ##Y así obtenemos media aproximada a cero"
   ]
  },
  {
   "cell_type": "code",
   "execution_count": 68,
   "metadata": {},
   "outputs": [
    {
     "data": {
      "image/png": "[encoded data removed]",
      "text/plain": [
       "<Figure size 432x288 with 2 Axes>"
      ]
     },
     "metadata": {
      "needs_background": "light"
     },
     "output_type": "display_data"
    }
   ],
   "source": [
    "## Para graficar una función de dos dimensiones\n",
    "x = np.linspace(0, 10, 50)\n",
    "y = np.linspace(0, 10, 50)[:, np.newaxis]\n",
    "\n",
    "z = np.sin(x) ** 2 + np.cos(y) ** 2\n",
    "\n",
    "%matplotlib inline\n",
    "import matplotlib.pyplot as plt\n",
    "\n",
    "plt.imshow(z, origin='lower', extent=[0, 10, 0, 10],\n",
    "           cmap='viridis')\n",
    "plt.colorbar();"
   ]
  },
  {
   "cell_type": "markdown",
   "metadata": {},
   "source": [
    "- Comparisons, Masks, and Boolean Logic\n"
   ]
  },
  {
   "cell_type": "code",
   "execution_count": null,
   "metadata": {},
   "outputs": [],
   "source": []
  }
 ],
 "metadata": {
  "kernelspec": {
   "display_name": "Python 3",
   "language": "python",
   "name": "python3"
  },
  "language_info": {
   "codemirror_mode": {
    "name": "ipython",
    "version": 3
   },
   "file_extension": ".py",
   "mimetype": "text/x-python",
   "name": "python",
   "nbconvert_exporter": "python",
   "pygments_lexer": "ipython3",
   "version": "3.7.3"
  }
 },
 "nbformat": 4,
 "nbformat_minor": 4
}
