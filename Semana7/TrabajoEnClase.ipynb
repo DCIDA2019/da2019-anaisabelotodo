{
 "cells": [
  {
   "cell_type": "markdown",
   "metadata": {},
   "source": [
    "# Trabajo en clase"
   ]
  },
  {
   "cell_type": "code",
   "execution_count": 235,
   "metadata": {},
   "outputs": [],
   "source": [
    "import pandas as pd\n",
    "import matplotlib.pyplot as plt\n",
    "import math\n",
    "import numpy as np"
   ]
  },
  {
   "cell_type": "code",
   "execution_count": 236,
   "metadata": {},
   "outputs": [],
   "source": [
    "x = np.linspace(0, 2, 15)\n",
    "y_old = 3*x + 2\n",
    "y = 3*x + 2\n",
    "\n",
    "error = np.random.normal(0,0.2, size=15)\n",
    "yerror = []\n",
    "\n",
    "for i in range(15):\n",
    "    y[i] = y[i] + error[i]\n",
    "    yerror.append(0.2)"
   ]
  },
  {
   "cell_type": "code",
   "execution_count": 237,
   "metadata": {},
   "outputs": [
    {
     "data": {
      "image/png": "[encoded data removed]",
      "text/plain": [
       "<Figure size 432x288 with 1 Axes>"
      ]
     },
     "metadata": {
      "needs_background": "light"
     },
     "output_type": "display_data"
    }
   ],
   "source": [
    "plt.plot(x, y_old)\n",
    "plt.errorbar(x, y, yerr = yerror)\n",
    "plt.xlabel('x')\n",
    "plt.ylabel('y')\n",
    "plt.grid('True')"
   ]
  },
  {
   "cell_type": "code",
   "execution_count": 238,
   "metadata": {},
   "outputs": [],
   "source": [
    "datos = np.array([x, y, error])\n",
    "datos = datos.T\n",
    "np.savetxt('archivo.txt', datos, fmt = '%f')"
   ]
  },
  {
   "cell_type": "code",
   "execution_count": 239,
   "metadata": {},
   "outputs": [],
   "source": [
    "data = np.loadtxt('archivo.txt')\n",
    "x_new = data[:,0]\n",
    "y_new = data[:,1]\n",
    "error_new = data[:,2]"
   ]
  },
  {
   "cell_type": "code",
   "execution_count": 240,
   "metadata": {},
   "outputs": [],
   "source": [
    "def line(x0, a0, b0):\n",
    "    return a0*x0 + b0"
   ]
  },
  {
   "cell_type": "code",
   "execution_count": 241,
   "metadata": {},
   "outputs": [
    {
     "data": {
      "image/png": "[encoded data removed]",
      "text/plain": [
       "<Figure size 432x288 with 1 Axes>"
      ]
     },
     "metadata": {
      "needs_background": "light"
     },
     "output_type": "display_data"
    }
   ],
   "source": [
    "from random import seed\n",
    "from random import gauss\n",
    "# seed random number generator\n",
    "seed(1)\n",
    "# generate some Gaussian values\n",
    "a = []\n",
    "b = []\n",
    "mu = 2.9\n",
    "sigma = 0.1\n",
    "for i in range(1000):\n",
    "    a.append(gauss(mu, sigma))\n",
    "    b.append(gauss(2.1, 0.1))\n",
    "    \n",
    "plt.hist(a, label = 'a',alpha = 0.5)\n",
    "plt.hist(b, label = 'b',alpha = 0.5)\n",
    "plt.legend()\n",
    "plt.axvline(mu)\n",
    "plt.axvline(2.1)\n",
    "\n",
    "a = np.array(a)\n",
    "b = np.array(b)"
   ]
  },
  {
   "cell_type": "code",
   "execution_count": 242,
   "metadata": {},
   "outputs": [],
   "source": [
    "data = np.array([a,b])\n",
    "data[1];\n",
    "\n",
    "model = line(x_new, 1.2, 1.1)"
   ]
  },
  {
   "cell_type": "code",
   "execution_count": 243,
   "metadata": {},
   "outputs": [],
   "source": [
    "def chisq(theta,data):\n",
    "    equis = data[0]\n",
    "    ye = data[1]\n",
    "    yerr = data[2]  #Lo que sigue depende del modelo\n",
    "    model = line(equis, theta[0], theta[1])\n",
    "    chisq = (ye-model)**2/yerr**2\n",
    "    return chisq.sum()"
   ]
  },
  {
   "cell_type": "code",
   "execution_count": 244,
   "metadata": {},
   "outputs": [],
   "source": [
    "chi2 = 0\n",
    "def chi(a0,b0):\n",
    "    chi2 = sum(((y_new - (a0*x_new + b0))**2)/error_new**2)\n",
    "    return chi2\n"
   ]
  },
  {
   "cell_type": "code",
   "execution_count": 245,
   "metadata": {},
   "outputs": [],
   "source": [
    "chisquare = np.zeros_like(a)\n",
    "#chisquare = []\n",
    "for i in range(len(a)):\n",
    "    chisquare = chisq((a[i],b[i]),[x_new, y_new, error_new])\n",
    "    #chisquare.append(chi(a[i],b[i]))"
   ]
  },
  {
   "cell_type": "code",
   "execution_count": 246,
   "metadata": {},
   "outputs": [],
   "source": [
    "chisquare = np.array(chisquare)\n",
    "a = np.array(a)\n",
    "b = np.array(b)"
   ]
  },
  {
   "cell_type": "code",
   "execution_count": null,
   "metadata": {},
   "outputs": [],
   "source": []
  },
  {
   "cell_type": "code",
   "execution_count": 247,
   "metadata": {},
   "outputs": [],
   "source": [
    "a_best = a[np.where(chisquare == np.min(chisquare))]\n",
    "b_best = b[np.where(chisquare == np.min(chisquare))]"
   ]
  },
  {
   "cell_type": "code",
   "execution_count": 248,
   "metadata": {},
   "outputs": [
    {
     "name": "stdout",
     "output_type": "stream",
     "text": [
      "[3.02881848] [2.24494456]\n"
     ]
    }
   ],
   "source": [
    "print(a_best, b_best)"
   ]
  },
  {
   "cell_type": "code",
   "execution_count": null,
   "metadata": {},
   "outputs": [],
   "source": []
  }
 ],
 "metadata": {
  "kernelspec": {
   "display_name": "Python 3",
   "language": "python",
   "name": "python3"
  },
  "language_info": {
   "codemirror_mode": {
    "name": "ipython",
    "version": 3
   },
   "file_extension": ".py",
   "mimetype": "text/x-python",
   "name": "python",
   "nbconvert_exporter": "python",
   "pygments_lexer": "ipython3",
   "version": "3.7.4"
  }
 },
 "nbformat": 4,
 "nbformat_minor": 4
}
